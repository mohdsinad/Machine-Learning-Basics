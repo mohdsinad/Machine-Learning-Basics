{
  "cells": [
    {
      "cell_type": "markdown",
      "id": "reverse-interview",
      "metadata": {
        "id": "reverse-interview"
      },
      "source": [
        "# Differentiation in Python: Symbolic, Numerical and Automatic"
      ]
    },
    {
      "cell_type": "markdown",
      "id": "parental-conclusion",
      "metadata": {
        "id": "parental-conclusion"
      },
      "source": [
        "In this notebook you will explore which tools and libraries are available in Python to compute derivatives. You will perform symbolic differentiation with `SymPy` library, numerical with `NumPy` and automatic with `JAX` (based on `Autograd`). Comparing the speed of calculations, you will investigate the computational efficiency of those three methods."
      ]
    },
    {
      "cell_type": "markdown",
      "id": "101116ab",
      "metadata": {
        "id": "101116ab"
      },
      "source": [
        "<a name='1'></a>\n",
        "## 1 - Functions in Python"
      ]
    },
    {
      "cell_type": "markdown",
      "id": "bc6140d8",
      "metadata": {
        "id": "bc6140d8"
      },
      "source": [
        "This is just a reminder how to define functions in Python. A simple function $f\\left(x\\right) = x^2$, it can be set up as:"
      ]
    },
    {
      "cell_type": "code",
      "execution_count": 1,
      "id": "d07a15ef",
      "metadata": {
        "id": "d07a15ef"
      },
      "outputs": [
        {
          "name": "stdout",
          "output_type": "stream",
          "text": [
            "9\n"
          ]
        }
      ],
      "source": [
        "def f(x):\n",
        "    return x**2\n",
        "\n",
        "print(f(3))"
      ]
    },
    {
      "cell_type": "markdown",
      "id": "06330bd1",
      "metadata": {
        "id": "06330bd1"
      },
      "source": [
        "You can easily find the derivative of this function analytically. You can set it up as a separate function:"
      ]
    },
    {
      "cell_type": "code",
      "execution_count": 2,
      "id": "1ff4ffb5",
      "metadata": {
        "id": "1ff4ffb5"
      },
      "outputs": [
        {
          "name": "stdout",
          "output_type": "stream",
          "text": [
            "6\n"
          ]
        }
      ],
      "source": [
        "def dfdx(x):\n",
        "    return 2*x\n",
        "\n",
        "print(dfdx(3))"
      ]
    },
    {
      "cell_type": "markdown",
      "id": "8301af3f",
      "metadata": {
        "id": "8301af3f"
      },
      "source": [
        "Since you have been working with the `NumPy` arrays, you can apply the function to each element of an array:"
      ]
    },
    {
      "cell_type": "code",
      "execution_count": 3,
      "id": "9f5831d8",
      "metadata": {
        "id": "9f5831d8"
      },
      "outputs": [
        {
          "name": "stdout",
          "output_type": "stream",
          "text": [
            "x: \n",
            " [1 2 3]\n",
            "f(x) = x**2: \n",
            " [1 4 9]\n",
            "f'(x) = 2x: \n",
            " [2 4 6]\n"
          ]
        }
      ],
      "source": [
        "import numpy as np\n",
        "\n",
        "x_array = np.array([1, 2, 3])\n",
        "\n",
        "print(\"x: \\n\", x_array)\n",
        "print(\"f(x) = x**2: \\n\", f(x_array))\n",
        "print(\"f'(x) = 2x: \\n\", dfdx(x_array))"
      ]
    },
    {
      "cell_type": "markdown",
      "id": "8428f910",
      "metadata": {
        "id": "8428f910"
      },
      "source": [
        "Now you can apply those functions `f` and `dfdx` to an array of a larger size. The following code will plot function and its derivative (you don't have to understand the details of the `plot_f1_and_f2` function at this stage):"
      ]
    },
    {
      "cell_type": "code",
      "execution_count": 4,
      "id": "5c255f4e",
      "metadata": {
        "id": "5c255f4e"
      },
      "outputs": [
        {
          "data": {
            "image/png": "[encoded data removed]",
            "text/plain": [
              "<Figure size 640x480 with 1 Axes>"
            ]
          },
          "metadata": {},
          "output_type": "display_data"
        }
      ],
      "source": [
        "import matplotlib.pyplot as plt\n",
        "\n",
        "# Output of plotting commands is displayed inline within the Jupyter notebook.\n",
        "%matplotlib inline\n",
        "\n",
        "def plot_f1_and_f2(f1, f2=None, x_min=-5, x_max=5, label1=\"f(x)\", label2=\"f'(x)\"):\n",
        "    x = np.linspace(x_min, x_max,100)\n",
        "\n",
        "    # Setting the axes at the centre.\n",
        "    fig = plt.figure()\n",
        "    ax = fig.add_subplot(1, 1, 1)\n",
        "    ax.spines['left'].set_position('center')\n",
        "    ax.spines['bottom'].set_position('zero')\n",
        "    ax.spines['right'].set_color('none')\n",
        "    ax.spines['top'].set_color('none')\n",
        "    ax.xaxis.set_ticks_position('bottom')\n",
        "    ax.yaxis.set_ticks_position('left')\n",
        "\n",
        "    plt.plot(x, f1(x), 'r', label=label1)\n",
        "    if not f2 is None:\n",
        "        # If f2 is an array, it is passed as it is to be plotted as unlinked points.\n",
        "        # If f2 is a function, f2(x) needs to be passed to plot it.\n",
        "        if isinstance(f2, np.ndarray):\n",
        "            plt.plot(x, f2, 'bo', markersize=3, label=label2,)\n",
        "        else:\n",
        "            plt.plot(x, f2(x), 'b', label=label2)\n",
        "    plt.legend()\n",
        "\n",
        "    plt.show()\n",
        "\n",
        "plot_f1_and_f2(f, dfdx)"
      ]
    },
    {
      "cell_type": "markdown",
      "id": "ffb711b8",
      "metadata": {
        "id": "ffb711b8"
      },
      "source": [
        "In real life the functions are more complicated and it is not possible to calculate the derivatives analytically every time. Let's explore which tools and libraries are available in Python for the computation of derivatives without manual derivation."
      ]
    },
    {
      "cell_type": "markdown",
      "id": "8d17f76f",
      "metadata": {
        "id": "8d17f76f"
      },
      "source": [
        "<a name='2'></a>\n",
        "## 2 - Symbolic Differentiation"
      ]
    },
    {
      "cell_type": "markdown",
      "id": "severe-studio",
      "metadata": {
        "id": "severe-studio"
      },
      "source": [
        "**Symbolic computation** deals with the computation of mathematical objects that are represented exactly, not approximately (e.g. $\\sqrt{2}$ will be written as it is, not as $1.41421356237$). For differentiation it would mean that the output will be somehow similar to if you were computing derivatives by hand using rules (analytically). Thus, symbolic differentiation can produce exact derivatives."
      ]
    },
    {
      "cell_type": "markdown",
      "id": "5b51ca07",
      "metadata": {
        "id": "5b51ca07"
      },
      "source": [
        "<a name='2.1'></a>\n",
        "### 2.1 - Introduction to Symbolic Computation with `SymPy`\n",
        "\n",
        "Let's explore symbolic differentiation in Python with commonly used `SymPy` library.\n",
        "\n",
        "If you want to compute the approximate decimal value of $\\sqrt{18}$, you could normally do it in the following way:"
      ]
    },
    {
      "cell_type": "code",
      "execution_count": 5,
      "id": "52d0b0a6",
      "metadata": {
        "id": "52d0b0a6"
      },
      "outputs": [
        {
          "data": {
            "text/plain": [
              "4.242640687119285"
            ]
          },
          "execution_count": 5,
          "metadata": {},
          "output_type": "execute_result"
        }
      ],
      "source": [
        "import math\n",
        "\n",
        "math.sqrt(18)"
      ]
    },
    {
      "cell_type": "markdown",
      "id": "a5227c24",
      "metadata": {
        "id": "a5227c24"
      },
      "source": [
        "The output $4.242640687119285$ is an approximate result. You may recall that $\\sqrt{18} = \\sqrt{9 \\cdot 2} = 3\\sqrt{2}$ and see that it is pretty much impossible to deduct it from the approximate result. But with the symbolic computation systems the roots are not approximated with a decimal number but rather only simplified, so the output is exact:"
      ]
    },
    {
      "cell_type": "code",
      "execution_count": 6,
      "id": "d5f1747d",
      "metadata": {
        "id": "d5f1747d"
      },
      "outputs": [
        {
          "data": {
            "text/latex": [
              "$\\displaystyle 3 \\sqrt{2}$"
            ],
            "text/plain": [
              "3*sqrt(2)"
            ]
          },
          "execution_count": 6,
          "metadata": {},
          "output_type": "execute_result"
        }
      ],
      "source": [
        "# This format of module import allows to use the sympy functions without sympy. prefix.\n",
        "from sympy import *\n",
        "\n",
        "# This is actually sympy.sqrt function, but sympy. prefix is omitted.\n",
        "sqrt(18)"
      ]
    },
    {
      "cell_type": "markdown",
      "id": "f5495348",
      "metadata": {
        "id": "f5495348"
      },
      "source": [
        "Numerical evaluation of the result is available, and you can set number of the digits to show in the approximated output:"
      ]
    },
    {
      "cell_type": "code",
      "execution_count": 7,
      "id": "925375b9",
      "metadata": {
        "id": "925375b9"
      },
      "outputs": [
        {
          "data": {
            "text/latex": [
              "$\\displaystyle 4.2426407$"
            ],
            "text/plain": [
              "4.2426407"
            ]
          },
          "execution_count": 7,
          "metadata": {},
          "output_type": "execute_result"
        }
      ],
      "source": [
        "N(sqrt(18),8)"
      ]
    },
    {
      "cell_type": "markdown",
      "id": "fb625f44",
      "metadata": {
        "id": "fb625f44"
      },
      "source": [
        "In `SymPy` variables are defined using **symbols**. In this particular library they need to be predefined (a list of them should be provided). Have a look in the cell below, how the symbolic expression, correspoinding to the mathematical expression $2x^2 - xy$, is defined:"
      ]
    },
    {
      "cell_type": "code",
      "execution_count": 8,
      "id": "b52721c0",
      "metadata": {
        "id": "b52721c0"
      },
      "outputs": [
        {
          "data": {
            "text/latex": [
              "$\\displaystyle 2 x^{2} - x y$"
            ],
            "text/plain": [
              "2*x**2 - x*y"
            ]
          },
          "execution_count": 8,
          "metadata": {},
          "output_type": "execute_result"
        }
      ],
      "source": [
        "# List of symbols.\n",
        "x, y = symbols('x y')\n",
        "# Definition of the expression.\n",
        "expr = 2 * x**2 - x * y\n",
        "expr"
      ]
    },
    {
      "cell_type": "markdown",
      "id": "edffde06",
      "metadata": {
        "id": "edffde06"
      },
      "source": [
        "Now you can perform various manipulations with this expression: add or subtract some terms, multiply by other expressions etc., just like if you were doing it by hands:"
      ]
    },
    {
      "cell_type": "code",
      "execution_count": 9,
      "id": "ac575c24",
      "metadata": {
        "id": "ac575c24"
      },
      "outputs": [
        {
          "data": {
            "text/latex": [
              "$\\displaystyle x \\left(x^{3} + 2 x^{2}\\right)$"
            ],
            "text/plain": [
              "x*(x**3 + 2*x**2)"
            ]
          },
          "execution_count": 9,
          "metadata": {},
          "output_type": "execute_result"
        }
      ],
      "source": [
        "expr_manip = x * (expr + x * y + x**3)\n",
        "expr_manip"
      ]
    },
    {
      "cell_type": "markdown",
      "id": "db151265",
      "metadata": {
        "id": "db151265"
      },
      "source": [
        "You can also expand the expression:"
      ]
    },
    {
      "cell_type": "code",
      "execution_count": 10,
      "id": "afb04770",
      "metadata": {
        "id": "afb04770"
      },
      "outputs": [
        {
          "data": {
            "text/latex": [
              "$\\displaystyle x^{4} + 2 x^{3}$"
            ],
            "text/plain": [
              "x**4 + 2*x**3"
            ]
          },
          "execution_count": 10,
          "metadata": {},
          "output_type": "execute_result"
        }
      ],
      "source": [
        "expand(expr_manip)"
      ]
    },
    {
      "cell_type": "markdown",
      "id": "77b3750c",
      "metadata": {
        "id": "77b3750c"
      },
      "source": [
        "Or factorise it:"
      ]
    },
    {
      "cell_type": "code",
      "execution_count": 11,
      "id": "0fc456cb",
      "metadata": {
        "id": "0fc456cb"
      },
      "outputs": [
        {
          "data": {
            "text/latex": [
              "$\\displaystyle x^{3} \\left(x + 2\\right)$"
            ],
            "text/plain": [
              "x**3*(x + 2)"
            ]
          },
          "execution_count": 11,
          "metadata": {},
          "output_type": "execute_result"
        }
      ],
      "source": [
        "factor(expr_manip)"
      ]
    },
    {
      "cell_type": "markdown",
      "id": "c885c385",
      "metadata": {
        "id": "c885c385"
      },
      "source": [
        "To substitute particular values for the variables in the expression, you can use the following code:"
      ]
    },
    {
      "cell_type": "code",
      "execution_count": 12,
      "id": "3c7d239e",
      "metadata": {
        "id": "3c7d239e"
      },
      "outputs": [
        {
          "data": {
            "text/latex": [
              "$\\displaystyle 4.0$"
            ],
            "text/plain": [
              "4.00000000000000"
            ]
          },
          "execution_count": 12,
          "metadata": {},
          "output_type": "execute_result"
        }
      ],
      "source": [
        "expr.evalf(subs={x:-1, y:2})"
      ]
    },
    {
      "cell_type": "markdown",
      "id": "4acf4536",
      "metadata": {
        "id": "4acf4536"
      },
      "source": [
        "This can be used to evaluate a function $f\\left(x\\right) = x^2$:"
      ]
    },
    {
      "cell_type": "code",
      "execution_count": 13,
      "id": "622e4335",
      "metadata": {
        "id": "622e4335"
      },
      "outputs": [
        {
          "data": {
            "text/latex": [
              "$\\displaystyle 9.0$"
            ],
            "text/plain": [
              "9.00000000000000"
            ]
          },
          "execution_count": 13,
          "metadata": {},
          "output_type": "execute_result"
        }
      ],
      "source": [
        "f_symb = x ** 2\n",
        "f_symb.evalf(subs={x:3})"
      ]
    },
    {
      "cell_type": "markdown",
      "id": "1346fb9f",
      "metadata": {
        "id": "1346fb9f"
      },
      "source": [
        "You might be wondering now, is it possible to evaluate the symbolic functions for each element of the array? At the beginning of the lab you have defined a `NumPy` array `x_array`:"
      ]
    },
    {
      "cell_type": "code",
      "execution_count": 14,
      "id": "af6562d3",
      "metadata": {
        "id": "af6562d3"
      },
      "outputs": [
        {
          "name": "stdout",
          "output_type": "stream",
          "text": [
            "[1 2 3]\n"
          ]
        }
      ],
      "source": [
        "print(x_array)"
      ]
    },
    {
      "cell_type": "markdown",
      "id": "f13ae4e0",
      "metadata": {
        "id": "f13ae4e0"
      },
      "source": [
        "Now try to evaluate function `f_symb` for each element of the array. You will get an error:"
      ]
    },
    {
      "cell_type": "code",
      "execution_count": 15,
      "id": "11df38ae",
      "metadata": {
        "id": "11df38ae"
      },
      "outputs": [
        {
          "name": "stdout",
          "output_type": "stream",
          "text": [
            "'Pow' object is not callable\n"
          ]
        }
      ],
      "source": [
        "try:\n",
        "    f_symb(x_array)\n",
        "except TypeError as err:\n",
        "    print(err)"
      ]
    },
    {
      "cell_type": "markdown",
      "id": "4f7800fe",
      "metadata": {
        "id": "4f7800fe"
      },
      "source": [
        "It is possible to evaluate the symbolic functions for each element of the array, but you need to make a function `NumPy`-friendly first:"
      ]
    },
    {
      "cell_type": "code",
      "execution_count": 16,
      "id": "3d7d8a58",
      "metadata": {
        "id": "3d7d8a58"
      },
      "outputs": [],
      "source": [
        "from sympy.utilities.lambdify import lambdify\n",
        "\n",
        "f_symb_numpy = lambdify(x, f_symb, 'numpy')"
      ]
    },
    {
      "cell_type": "markdown",
      "id": "631e3e71",
      "metadata": {
        "id": "631e3e71"
      },
      "source": [
        "The following code should work now:"
      ]
    },
    {
      "cell_type": "code",
      "execution_count": 17,
      "id": "1ab8f0da",
      "metadata": {
        "id": "1ab8f0da"
      },
      "outputs": [
        {
          "name": "stdout",
          "output_type": "stream",
          "text": [
            "x: \n",
            " [1 2 3]\n",
            "f(x) = x**2: \n",
            " [1 4 9]\n"
          ]
        }
      ],
      "source": [
        "print(\"x: \\n\", x_array)\n",
        "print(\"f(x) = x**2: \\n\", f_symb_numpy(x_array))"
      ]
    },
    {
      "cell_type": "markdown",
      "id": "681062e1",
      "metadata": {
        "id": "681062e1"
      },
      "source": [
        "`SymPy` has lots of great functions to manipulate expressions and perform various operations from calculus. More information about them can be found in the official documentation [here](https://docs.sympy.org/)."
      ]
    },
    {
      "cell_type": "markdown",
      "id": "6c6c9d29",
      "metadata": {
        "id": "6c6c9d29"
      },
      "source": [
        "<a name='2.2'></a>\n",
        "### 2.2 - Symbolic Differentiation with `SymPy`\n",
        "\n",
        "Let's try to find a derivative of a simple power function using `SymPy`:"
      ]
    },
    {
      "cell_type": "code",
      "execution_count": 18,
      "id": "abb93aeb",
      "metadata": {
        "id": "abb93aeb"
      },
      "outputs": [
        {
          "data": {
            "text/latex": [
              "$\\displaystyle 3 x^{2}$"
            ],
            "text/plain": [
              "3*x**2"
            ]
          },
          "execution_count": 18,
          "metadata": {},
          "output_type": "execute_result"
        }
      ],
      "source": [
        "diff(x**3,x)"
      ]
    },
    {
      "cell_type": "markdown",
      "id": "bd8a81b1",
      "metadata": {
        "id": "bd8a81b1"
      },
      "source": [
        "Some standard functions can be used in the expression, and `SymPy` will apply required rules (sum, product, chain) to calculate the derivative:"
      ]
    },
    {
      "cell_type": "code",
      "execution_count": 19,
      "id": "63ce2cd2",
      "metadata": {
        "id": "63ce2cd2"
      },
      "outputs": [
        {
          "data": {
            "text/latex": [
              "$\\displaystyle 9 \\cos{\\left(3 x \\right)} - 2 e^{- 2 x}$"
            ],
            "text/plain": [
              "9*cos(3*x) - 2*exp(-2*x)"
            ]
          },
          "execution_count": 19,
          "metadata": {},
          "output_type": "execute_result"
        }
      ],
      "source": [
        "dfdx_composed = diff(exp(-2*x) + 3*sin(3*x), x)\n",
        "dfdx_composed"
      ]
    },
    {
      "cell_type": "markdown",
      "id": "13407c2b",
      "metadata": {
        "id": "13407c2b"
      },
      "source": [
        "Now calculate the derivative of the function `f_symb` defined in [2.1](#2.1) and make it `NumPy`-friendly:"
      ]
    },
    {
      "cell_type": "code",
      "execution_count": 20,
      "id": "597d5879",
      "metadata": {
        "id": "597d5879"
      },
      "outputs": [],
      "source": [
        "dfdx_symb = diff(f_symb, x)\n",
        "dfdx_symb_numpy = lambdify(x, dfdx_symb, 'numpy')"
      ]
    },
    {
      "cell_type": "markdown",
      "id": "0f9bee28",
      "metadata": {
        "id": "0f9bee28"
      },
      "source": [
        "Evaluate function `dfdx_symb_numpy` for each element of the `x_array`:"
      ]
    },
    {
      "cell_type": "code",
      "execution_count": 21,
      "id": "b74b4d04",
      "metadata": {
        "id": "b74b4d04"
      },
      "outputs": [
        {
          "name": "stdout",
          "output_type": "stream",
          "text": [
            "x: \n",
            " [1 2 3]\n",
            "f'(x) = 2x: \n",
            " [2 4 6]\n"
          ]
        }
      ],
      "source": [
        "print(\"x: \\n\", x_array)\n",
        "print(\"f'(x) = 2x: \\n\", dfdx_symb_numpy(x_array))"
      ]
    },
    {
      "cell_type": "markdown",
      "id": "ada41a99",
      "metadata": {
        "id": "ada41a99"
      },
      "source": [
        "You can apply symbolically defined functions to the arrays of larger size. The following code will plot function and its derivative, you can see that it works:"
      ]
    },
    {
      "cell_type": "code",
      "execution_count": 22,
      "id": "031a757c",
      "metadata": {
        "id": "031a757c"
      },
      "outputs": [
        {
          "data": {
            "image/png": "[encoded data removed]",
            "text/plain": [
              "<Figure size 640x480 with 1 Axes>"
            ]
          },
          "metadata": {},
          "output_type": "display_data"
        }
      ],
      "source": [
        "plot_f1_and_f2(f_symb_numpy, dfdx_symb_numpy)"
      ]
    },
    {
      "cell_type": "markdown",
      "id": "de01feee",
      "metadata": {
        "id": "de01feee"
      },
      "source": [
        "<a name='2.3'></a>\n",
        "### 2.3 - Limitations of Symbolic Differentiation\n",
        "\n",
        "Symbolic Differentiation seems to be a great tool. But it also has some limitations. Sometimes the output expressions are too complicated and even not possible to evaluate. For example, find the derivative of the function $$\\left|x\\right| = \\begin{cases} x, \\ \\text{if}\\ x > 0\\\\  -x, \\ \\text{if}\\ x < 0 \\\\ 0, \\ \\text{if}\\ x = 0\\end{cases}$$ Analytically, its derivative is:\n",
        "$$\\frac{d}{dx}\\left(\\left|x\\right|\\right) = \\begin{cases} 1, \\ \\text{if}\\ x > 0\\\\  -1, \\ \\text{if}\\ x < 0\\\\\\ \\text{does not exist}, \\ \\text{if}\\ x = 0\\end{cases}$$\n",
        "\n",
        "Have a look the output from the symbolic differentiation:"
      ]
    },
    {
      "cell_type": "code",
      "execution_count": 23,
      "id": "collect-needle",
      "metadata": {
        "id": "collect-needle"
      },
      "outputs": [
        {
          "data": {
            "text/latex": [
              "$\\displaystyle \\frac{\\left(\\operatorname{re}{\\left(x\\right)} \\frac{d}{d x} \\operatorname{re}{\\left(x\\right)} + \\operatorname{im}{\\left(x\\right)} \\frac{d}{d x} \\operatorname{im}{\\left(x\\right)}\\right) \\operatorname{sign}{\\left(x \\right)}}{x}$"
            ],
            "text/plain": [
              "(re(x)*Derivative(re(x), x) + im(x)*Derivative(im(x), x))*sign(x)/x"
            ]
          },
          "execution_count": 23,
          "metadata": {},
          "output_type": "execute_result"
        }
      ],
      "source": [
        "dfdx_abs = diff(abs(x),x)\n",
        "dfdx_abs"
      ]
    },
    {
      "cell_type": "markdown",
      "id": "f9c3d8e5",
      "metadata": {
        "id": "f9c3d8e5"
      },
      "source": [
        "Looks complicated, but it would not be a problem if it was possible to evaluate. But check, that for $x=-2$ instead of the derivative value $-1$ it outputs some unevaluated expression:"
      ]
    },
    {
      "cell_type": "code",
      "execution_count": 24,
      "id": "d53e7c64",
      "metadata": {
        "id": "d53e7c64"
      },
      "outputs": [
        {
          "data": {
            "text/latex": [
              "$\\displaystyle - \\left. \\frac{d}{d x} \\operatorname{re}{\\left(x\\right)} \\right|_{\\substack{ x=-2 }}$"
            ],
            "text/plain": [
              "-Subs(Derivative(re(x), x), x, -2)"
            ]
          },
          "execution_count": 24,
          "metadata": {},
          "output_type": "execute_result"
        }
      ],
      "source": [
        "dfdx_abs.evalf(subs={x:-2})"
      ]
    },
    {
      "cell_type": "markdown",
      "id": "f4a9140c",
      "metadata": {
        "id": "f4a9140c"
      },
      "source": [
        "And in the `NumPy` friendly version it also will give an error:"
      ]
    },
    {
      "cell_type": "code",
      "execution_count": 25,
      "id": "644f00ce",
      "metadata": {
        "id": "644f00ce"
      },
      "outputs": [
        {
          "ename": "PrintMethodNotImplementedError",
          "evalue": "Unsupported by <class 'sympy.printing.numpy.NumPyPrinter'>: <class 'sympy.core.function.Derivative'>\nPrinter has no method: _print_Derivative_re\nSet the printer option 'strict' to False in order to generate partially printed code.",
          "output_type": "error",
          "traceback": [
            "\u001b[0;31m---------------------------------------------------------------------------\u001b[0m",
            "\u001b[0;31mPrintMethodNotImplementedError\u001b[0m            Traceback (most recent call last)",
            "Cell \u001b[0;32mIn[25], line 1\u001b[0m\n\u001b[0;32m----> 1\u001b[0m dfdx_abs_numpy \u001b[38;5;241m=\u001b[39m \u001b[43mlambdify\u001b[49m\u001b[43m(\u001b[49m\u001b[43mx\u001b[49m\u001b[43m,\u001b[49m\u001b[43m \u001b[49m\u001b[43mdfdx_abs\u001b[49m\u001b[43m,\u001b[49m\u001b[38;5;124;43m'\u001b[39;49m\u001b[38;5;124;43mnumpy\u001b[39;49m\u001b[38;5;124;43m'\u001b[39;49m\u001b[43m)\u001b[49m\n\u001b[1;32m      3\u001b[0m \u001b[38;5;28;01mtry\u001b[39;00m:\n\u001b[1;32m      4\u001b[0m     dfdx_abs_numpy(np\u001b[38;5;241m.\u001b[39marray([\u001b[38;5;241m1\u001b[39m, \u001b[38;5;241m-\u001b[39m\u001b[38;5;241m2\u001b[39m, \u001b[38;5;241m0\u001b[39m]))\n",
            "File \u001b[0;32m~/miniconda3/lib/python3.12/site-packages/sympy/utilities/lambdify.py:894\u001b[0m, in \u001b[0;36mlambdify\u001b[0;34m(args, expr, modules, printer, use_imps, dummify, cse, docstring_limit)\u001b[0m\n\u001b[1;32m    892\u001b[0m \u001b[38;5;28;01melse\u001b[39;00m:\n\u001b[1;32m    893\u001b[0m     cses, _expr \u001b[38;5;241m=\u001b[39m (), expr\n\u001b[0;32m--> 894\u001b[0m funcstr \u001b[38;5;241m=\u001b[39m \u001b[43mfuncprinter\u001b[49m\u001b[38;5;241;43m.\u001b[39;49m\u001b[43mdoprint\u001b[49m\u001b[43m(\u001b[49m\u001b[43mfuncname\u001b[49m\u001b[43m,\u001b[49m\u001b[43m \u001b[49m\u001b[43miterable_args\u001b[49m\u001b[43m,\u001b[49m\u001b[43m \u001b[49m\u001b[43m_expr\u001b[49m\u001b[43m,\u001b[49m\u001b[43m \u001b[49m\u001b[43mcses\u001b[49m\u001b[38;5;241;43m=\u001b[39;49m\u001b[43mcses\u001b[49m\u001b[43m)\u001b[49m\n\u001b[1;32m    896\u001b[0m \u001b[38;5;66;03m# Collect the module imports from the code printers.\u001b[39;00m\n\u001b[1;32m    897\u001b[0m imp_mod_lines \u001b[38;5;241m=\u001b[39m []\n",
            "File \u001b[0;32m~/miniconda3/lib/python3.12/site-packages/sympy/utilities/lambdify.py:1201\u001b[0m, in \u001b[0;36m_EvaluatorPrinter.doprint\u001b[0;34m(self, funcname, args, expr, cses)\u001b[0m\n\u001b[1;32m   1198\u001b[0m \u001b[38;5;28;01mfor\u001b[39;00m lhs, rhs \u001b[38;5;129;01min\u001b[39;00m subs_assignments:\n\u001b[1;32m   1199\u001b[0m     funcbody\u001b[38;5;241m.\u001b[39mappend(\u001b[38;5;124m'\u001b[39m\u001b[38;5;132;01m{}\u001b[39;00m\u001b[38;5;124m = \u001b[39m\u001b[38;5;132;01m{}\u001b[39;00m\u001b[38;5;124m'\u001b[39m\u001b[38;5;241m.\u001b[39mformat(\u001b[38;5;28mself\u001b[39m\u001b[38;5;241m.\u001b[39m_exprrepr(lhs), \u001b[38;5;28mself\u001b[39m\u001b[38;5;241m.\u001b[39m_exprrepr(rhs)))\n\u001b[0;32m-> 1201\u001b[0m str_expr \u001b[38;5;241m=\u001b[39m \u001b[43m_recursive_to_string\u001b[49m\u001b[43m(\u001b[49m\u001b[38;5;28;43mself\u001b[39;49m\u001b[38;5;241;43m.\u001b[39;49m\u001b[43m_exprrepr\u001b[49m\u001b[43m,\u001b[49m\u001b[43m \u001b[49m\u001b[43mexpr\u001b[49m\u001b[43m)\u001b[49m\n\u001b[1;32m   1203\u001b[0m \u001b[38;5;28;01mif\u001b[39;00m \u001b[38;5;124m'\u001b[39m\u001b[38;5;130;01m\\n\u001b[39;00m\u001b[38;5;124m'\u001b[39m \u001b[38;5;129;01min\u001b[39;00m str_expr:\n\u001b[1;32m   1204\u001b[0m     str_expr \u001b[38;5;241m=\u001b[39m \u001b[38;5;124m'\u001b[39m\u001b[38;5;124m(\u001b[39m\u001b[38;5;132;01m{}\u001b[39;00m\u001b[38;5;124m)\u001b[39m\u001b[38;5;124m'\u001b[39m\u001b[38;5;241m.\u001b[39mformat(str_expr)\n",
            "File \u001b[0;32m~/miniconda3/lib/python3.12/site-packages/sympy/utilities/lambdify.py:989\u001b[0m, in \u001b[0;36m_recursive_to_string\u001b[0;34m(doprint, arg)\u001b[0m\n\u001b[1;32m    986\u001b[0m \u001b[38;5;28;01mfrom\u001b[39;00m\u001b[38;5;250m \u001b[39m\u001b[38;5;21;01msympy\u001b[39;00m\u001b[38;5;21;01m.\u001b[39;00m\u001b[38;5;21;01mcore\u001b[39;00m\u001b[38;5;21;01m.\u001b[39;00m\u001b[38;5;21;01mbasic\u001b[39;00m\u001b[38;5;250m \u001b[39m\u001b[38;5;28;01mimport\u001b[39;00m Basic\n\u001b[1;32m    988\u001b[0m \u001b[38;5;28;01mif\u001b[39;00m \u001b[38;5;28misinstance\u001b[39m(arg, (Basic, MatrixBase)):\n\u001b[0;32m--> 989\u001b[0m     \u001b[38;5;28;01mreturn\u001b[39;00m \u001b[43mdoprint\u001b[49m\u001b[43m(\u001b[49m\u001b[43marg\u001b[49m\u001b[43m)\u001b[49m\n\u001b[1;32m    990\u001b[0m \u001b[38;5;28;01melif\u001b[39;00m iterable(arg):\n\u001b[1;32m    991\u001b[0m     \u001b[38;5;28;01mif\u001b[39;00m \u001b[38;5;28misinstance\u001b[39m(arg, \u001b[38;5;28mlist\u001b[39m):\n",
            "File \u001b[0;32m~/miniconda3/lib/python3.12/site-packages/sympy/printing/codeprinter.py:172\u001b[0m, in \u001b[0;36mCodePrinter.doprint\u001b[0;34m(self, expr, assign_to)\u001b[0m\n\u001b[1;32m    169\u001b[0m \u001b[38;5;28mself\u001b[39m\u001b[38;5;241m.\u001b[39m_not_supported \u001b[38;5;241m=\u001b[39m \u001b[38;5;28mset\u001b[39m()\n\u001b[1;32m    170\u001b[0m \u001b[38;5;28mself\u001b[39m\u001b[38;5;241m.\u001b[39m_number_symbols \u001b[38;5;241m=\u001b[39m \u001b[38;5;28mset\u001b[39m()\n\u001b[0;32m--> 172\u001b[0m lines \u001b[38;5;241m=\u001b[39m \u001b[38;5;28;43mself\u001b[39;49m\u001b[38;5;241;43m.\u001b[39;49m\u001b[43m_print\u001b[49m\u001b[43m(\u001b[49m\u001b[43mexpr\u001b[49m\u001b[43m)\u001b[49m\u001b[38;5;241m.\u001b[39msplitlines()\n\u001b[1;32m    174\u001b[0m \u001b[38;5;66;03m# format the output\u001b[39;00m\n\u001b[1;32m    175\u001b[0m \u001b[38;5;28;01mif\u001b[39;00m \u001b[38;5;28mself\u001b[39m\u001b[38;5;241m.\u001b[39m_settings[\u001b[38;5;124m\"\u001b[39m\u001b[38;5;124mhuman\u001b[39m\u001b[38;5;124m\"\u001b[39m]:\n",
            "File \u001b[0;32m~/miniconda3/lib/python3.12/site-packages/sympy/printing/printer.py:332\u001b[0m, in \u001b[0;36mPrinter._print\u001b[0;34m(self, expr, **kwargs)\u001b[0m\n\u001b[1;32m    330\u001b[0m     printmethod \u001b[38;5;241m=\u001b[39m \u001b[38;5;28mgetattr\u001b[39m(\u001b[38;5;28mself\u001b[39m, printmethodname, \u001b[38;5;28;01mNone\u001b[39;00m)\n\u001b[1;32m    331\u001b[0m     \u001b[38;5;28;01mif\u001b[39;00m printmethod \u001b[38;5;129;01mis\u001b[39;00m \u001b[38;5;129;01mnot\u001b[39;00m \u001b[38;5;28;01mNone\u001b[39;00m:\n\u001b[0;32m--> 332\u001b[0m         \u001b[38;5;28;01mreturn\u001b[39;00m \u001b[43mprintmethod\u001b[49m\u001b[43m(\u001b[49m\u001b[43mexpr\u001b[49m\u001b[43m,\u001b[49m\u001b[43m \u001b[49m\u001b[38;5;241;43m*\u001b[39;49m\u001b[38;5;241;43m*\u001b[39;49m\u001b[43mkwargs\u001b[49m\u001b[43m)\u001b[49m\n\u001b[1;32m    333\u001b[0m \u001b[38;5;66;03m# Unknown object, fall back to the emptyPrinter.\u001b[39;00m\n\u001b[1;32m    334\u001b[0m \u001b[38;5;28;01mreturn\u001b[39;00m \u001b[38;5;28mself\u001b[39m\u001b[38;5;241m.\u001b[39memptyPrinter(expr)\n",
            "File \u001b[0;32m~/miniconda3/lib/python3.12/site-packages/sympy/printing/codeprinter.py:593\u001b[0m, in \u001b[0;36mCodePrinter._print_Mul\u001b[0;34m(self, expr)\u001b[0m\n\u001b[1;32m    591\u001b[0m     a_str \u001b[38;5;241m=\u001b[39m [\u001b[38;5;28mself\u001b[39m\u001b[38;5;241m.\u001b[39mparenthesize(a[\u001b[38;5;241m0\u001b[39m], \u001b[38;5;241m0.5\u001b[39m\u001b[38;5;241m*\u001b[39m(PRECEDENCE[\u001b[38;5;124m\"\u001b[39m\u001b[38;5;124mPow\u001b[39m\u001b[38;5;124m\"\u001b[39m]\u001b[38;5;241m+\u001b[39mPRECEDENCE[\u001b[38;5;124m\"\u001b[39m\u001b[38;5;124mMul\u001b[39m\u001b[38;5;124m\"\u001b[39m]))]\n\u001b[1;32m    592\u001b[0m \u001b[38;5;28;01melse\u001b[39;00m:\n\u001b[0;32m--> 593\u001b[0m     a_str \u001b[38;5;241m=\u001b[39m [\u001b[38;5;28;43mself\u001b[39;49m\u001b[38;5;241;43m.\u001b[39;49m\u001b[43mparenthesize\u001b[49m\u001b[43m(\u001b[49m\u001b[43mx\u001b[49m\u001b[43m,\u001b[49m\u001b[43m \u001b[49m\u001b[43mprec\u001b[49m\u001b[43m)\u001b[49m \u001b[38;5;28;01mfor\u001b[39;00m x \u001b[38;5;129;01min\u001b[39;00m a]\n\u001b[1;32m    594\u001b[0m b_str \u001b[38;5;241m=\u001b[39m [\u001b[38;5;28mself\u001b[39m\u001b[38;5;241m.\u001b[39mparenthesize(x, prec) \u001b[38;5;28;01mfor\u001b[39;00m x \u001b[38;5;129;01min\u001b[39;00m b]\n\u001b[1;32m    596\u001b[0m \u001b[38;5;66;03m# To parenthesize Pow with exp = -1 and having more than one Symbol\u001b[39;00m\n",
            "File \u001b[0;32m~/miniconda3/lib/python3.12/site-packages/sympy/printing/str.py:37\u001b[0m, in \u001b[0;36mStrPrinter.parenthesize\u001b[0;34m(self, item, level, strict)\u001b[0m\n\u001b[1;32m     35\u001b[0m \u001b[38;5;28;01mdef\u001b[39;00m\u001b[38;5;250m \u001b[39m\u001b[38;5;21mparenthesize\u001b[39m(\u001b[38;5;28mself\u001b[39m, item, level, strict\u001b[38;5;241m=\u001b[39m\u001b[38;5;28;01mFalse\u001b[39;00m):\n\u001b[1;32m     36\u001b[0m     \u001b[38;5;28;01mif\u001b[39;00m (precedence(item) \u001b[38;5;241m<\u001b[39m level) \u001b[38;5;129;01mor\u001b[39;00m ((\u001b[38;5;129;01mnot\u001b[39;00m strict) \u001b[38;5;129;01mand\u001b[39;00m precedence(item) \u001b[38;5;241m<\u001b[39m\u001b[38;5;241m=\u001b[39m level):\n\u001b[0;32m---> 37\u001b[0m         \u001b[38;5;28;01mreturn\u001b[39;00m \u001b[38;5;124m\"\u001b[39m\u001b[38;5;124m(\u001b[39m\u001b[38;5;132;01m%s\u001b[39;00m\u001b[38;5;124m)\u001b[39m\u001b[38;5;124m\"\u001b[39m \u001b[38;5;241m%\u001b[39m \u001b[38;5;28;43mself\u001b[39;49m\u001b[38;5;241;43m.\u001b[39;49m\u001b[43m_print\u001b[49m\u001b[43m(\u001b[49m\u001b[43mitem\u001b[49m\u001b[43m)\u001b[49m\n\u001b[1;32m     38\u001b[0m     \u001b[38;5;28;01melse\u001b[39;00m:\n\u001b[1;32m     39\u001b[0m         \u001b[38;5;28;01mreturn\u001b[39;00m \u001b[38;5;28mself\u001b[39m\u001b[38;5;241m.\u001b[39m_print(item)\n",
            "File \u001b[0;32m~/miniconda3/lib/python3.12/site-packages/sympy/printing/printer.py:332\u001b[0m, in \u001b[0;36mPrinter._print\u001b[0;34m(self, expr, **kwargs)\u001b[0m\n\u001b[1;32m    330\u001b[0m     printmethod \u001b[38;5;241m=\u001b[39m \u001b[38;5;28mgetattr\u001b[39m(\u001b[38;5;28mself\u001b[39m, printmethodname, \u001b[38;5;28;01mNone\u001b[39;00m)\n\u001b[1;32m    331\u001b[0m     \u001b[38;5;28;01mif\u001b[39;00m printmethod \u001b[38;5;129;01mis\u001b[39;00m \u001b[38;5;129;01mnot\u001b[39;00m \u001b[38;5;28;01mNone\u001b[39;00m:\n\u001b[0;32m--> 332\u001b[0m         \u001b[38;5;28;01mreturn\u001b[39;00m \u001b[43mprintmethod\u001b[49m\u001b[43m(\u001b[49m\u001b[43mexpr\u001b[49m\u001b[43m,\u001b[49m\u001b[43m \u001b[49m\u001b[38;5;241;43m*\u001b[39;49m\u001b[38;5;241;43m*\u001b[39;49m\u001b[43mkwargs\u001b[49m\u001b[43m)\u001b[49m\n\u001b[1;32m    333\u001b[0m \u001b[38;5;66;03m# Unknown object, fall back to the emptyPrinter.\u001b[39;00m\n\u001b[1;32m    334\u001b[0m \u001b[38;5;28;01mreturn\u001b[39;00m \u001b[38;5;28mself\u001b[39m\u001b[38;5;241m.\u001b[39memptyPrinter(expr)\n",
            "File \u001b[0;32m~/miniconda3/lib/python3.12/site-packages/sympy/printing/str.py:58\u001b[0m, in \u001b[0;36mStrPrinter._print_Add\u001b[0;34m(self, expr, order)\u001b[0m\n\u001b[1;32m     56\u001b[0m l \u001b[38;5;241m=\u001b[39m []\n\u001b[1;32m     57\u001b[0m \u001b[38;5;28;01mfor\u001b[39;00m term \u001b[38;5;129;01min\u001b[39;00m terms:\n\u001b[0;32m---> 58\u001b[0m     t \u001b[38;5;241m=\u001b[39m \u001b[38;5;28;43mself\u001b[39;49m\u001b[38;5;241;43m.\u001b[39;49m\u001b[43m_print\u001b[49m\u001b[43m(\u001b[49m\u001b[43mterm\u001b[49m\u001b[43m)\u001b[49m\n\u001b[1;32m     59\u001b[0m     \u001b[38;5;28;01mif\u001b[39;00m t\u001b[38;5;241m.\u001b[39mstartswith(\u001b[38;5;124m'\u001b[39m\u001b[38;5;124m-\u001b[39m\u001b[38;5;124m'\u001b[39m) \u001b[38;5;129;01mand\u001b[39;00m \u001b[38;5;129;01mnot\u001b[39;00m term\u001b[38;5;241m.\u001b[39mis_Add:\n\u001b[1;32m     60\u001b[0m         sign \u001b[38;5;241m=\u001b[39m \u001b[38;5;124m\"\u001b[39m\u001b[38;5;124m-\u001b[39m\u001b[38;5;124m\"\u001b[39m\n",
            "File \u001b[0;32m~/miniconda3/lib/python3.12/site-packages/sympy/printing/printer.py:332\u001b[0m, in \u001b[0;36mPrinter._print\u001b[0;34m(self, expr, **kwargs)\u001b[0m\n\u001b[1;32m    330\u001b[0m     printmethod \u001b[38;5;241m=\u001b[39m \u001b[38;5;28mgetattr\u001b[39m(\u001b[38;5;28mself\u001b[39m, printmethodname, \u001b[38;5;28;01mNone\u001b[39;00m)\n\u001b[1;32m    331\u001b[0m     \u001b[38;5;28;01mif\u001b[39;00m printmethod \u001b[38;5;129;01mis\u001b[39;00m \u001b[38;5;129;01mnot\u001b[39;00m \u001b[38;5;28;01mNone\u001b[39;00m:\n\u001b[0;32m--> 332\u001b[0m         \u001b[38;5;28;01mreturn\u001b[39;00m \u001b[43mprintmethod\u001b[49m\u001b[43m(\u001b[49m\u001b[43mexpr\u001b[49m\u001b[43m,\u001b[49m\u001b[43m \u001b[49m\u001b[38;5;241;43m*\u001b[39;49m\u001b[38;5;241;43m*\u001b[39;49m\u001b[43mkwargs\u001b[49m\u001b[43m)\u001b[49m\n\u001b[1;32m    333\u001b[0m \u001b[38;5;66;03m# Unknown object, fall back to the emptyPrinter.\u001b[39;00m\n\u001b[1;32m    334\u001b[0m \u001b[38;5;28;01mreturn\u001b[39;00m \u001b[38;5;28mself\u001b[39m\u001b[38;5;241m.\u001b[39memptyPrinter(expr)\n",
            "File \u001b[0;32m~/miniconda3/lib/python3.12/site-packages/sympy/printing/codeprinter.py:593\u001b[0m, in \u001b[0;36mCodePrinter._print_Mul\u001b[0;34m(self, expr)\u001b[0m\n\u001b[1;32m    591\u001b[0m     a_str \u001b[38;5;241m=\u001b[39m [\u001b[38;5;28mself\u001b[39m\u001b[38;5;241m.\u001b[39mparenthesize(a[\u001b[38;5;241m0\u001b[39m], \u001b[38;5;241m0.5\u001b[39m\u001b[38;5;241m*\u001b[39m(PRECEDENCE[\u001b[38;5;124m\"\u001b[39m\u001b[38;5;124mPow\u001b[39m\u001b[38;5;124m\"\u001b[39m]\u001b[38;5;241m+\u001b[39mPRECEDENCE[\u001b[38;5;124m\"\u001b[39m\u001b[38;5;124mMul\u001b[39m\u001b[38;5;124m\"\u001b[39m]))]\n\u001b[1;32m    592\u001b[0m \u001b[38;5;28;01melse\u001b[39;00m:\n\u001b[0;32m--> 593\u001b[0m     a_str \u001b[38;5;241m=\u001b[39m [\u001b[38;5;28;43mself\u001b[39;49m\u001b[38;5;241;43m.\u001b[39;49m\u001b[43mparenthesize\u001b[49m\u001b[43m(\u001b[49m\u001b[43mx\u001b[49m\u001b[43m,\u001b[49m\u001b[43m \u001b[49m\u001b[43mprec\u001b[49m\u001b[43m)\u001b[49m \u001b[38;5;28;01mfor\u001b[39;00m x \u001b[38;5;129;01min\u001b[39;00m a]\n\u001b[1;32m    594\u001b[0m b_str \u001b[38;5;241m=\u001b[39m [\u001b[38;5;28mself\u001b[39m\u001b[38;5;241m.\u001b[39mparenthesize(x, prec) \u001b[38;5;28;01mfor\u001b[39;00m x \u001b[38;5;129;01min\u001b[39;00m b]\n\u001b[1;32m    596\u001b[0m \u001b[38;5;66;03m# To parenthesize Pow with exp = -1 and having more than one Symbol\u001b[39;00m\n",
            "File \u001b[0;32m~/miniconda3/lib/python3.12/site-packages/sympy/printing/str.py:39\u001b[0m, in \u001b[0;36mStrPrinter.parenthesize\u001b[0;34m(self, item, level, strict)\u001b[0m\n\u001b[1;32m     37\u001b[0m     \u001b[38;5;28;01mreturn\u001b[39;00m \u001b[38;5;124m\"\u001b[39m\u001b[38;5;124m(\u001b[39m\u001b[38;5;132;01m%s\u001b[39;00m\u001b[38;5;124m)\u001b[39m\u001b[38;5;124m\"\u001b[39m \u001b[38;5;241m%\u001b[39m \u001b[38;5;28mself\u001b[39m\u001b[38;5;241m.\u001b[39m_print(item)\n\u001b[1;32m     38\u001b[0m \u001b[38;5;28;01melse\u001b[39;00m:\n\u001b[0;32m---> 39\u001b[0m     \u001b[38;5;28;01mreturn\u001b[39;00m \u001b[38;5;28;43mself\u001b[39;49m\u001b[38;5;241;43m.\u001b[39;49m\u001b[43m_print\u001b[49m\u001b[43m(\u001b[49m\u001b[43mitem\u001b[49m\u001b[43m)\u001b[49m\n",
            "File \u001b[0;32m~/miniconda3/lib/python3.12/site-packages/sympy/printing/printer.py:332\u001b[0m, in \u001b[0;36mPrinter._print\u001b[0;34m(self, expr, **kwargs)\u001b[0m\n\u001b[1;32m    330\u001b[0m     printmethod \u001b[38;5;241m=\u001b[39m \u001b[38;5;28mgetattr\u001b[39m(\u001b[38;5;28mself\u001b[39m, printmethodname, \u001b[38;5;28;01mNone\u001b[39;00m)\n\u001b[1;32m    331\u001b[0m     \u001b[38;5;28;01mif\u001b[39;00m printmethod \u001b[38;5;129;01mis\u001b[39;00m \u001b[38;5;129;01mnot\u001b[39;00m \u001b[38;5;28;01mNone\u001b[39;00m:\n\u001b[0;32m--> 332\u001b[0m         \u001b[38;5;28;01mreturn\u001b[39;00m \u001b[43mprintmethod\u001b[49m\u001b[43m(\u001b[49m\u001b[43mexpr\u001b[49m\u001b[43m,\u001b[49m\u001b[43m \u001b[49m\u001b[38;5;241;43m*\u001b[39;49m\u001b[38;5;241;43m*\u001b[39;49m\u001b[43mkwargs\u001b[49m\u001b[43m)\u001b[49m\n\u001b[1;32m    333\u001b[0m \u001b[38;5;66;03m# Unknown object, fall back to the emptyPrinter.\u001b[39;00m\n\u001b[1;32m    334\u001b[0m \u001b[38;5;28;01mreturn\u001b[39;00m \u001b[38;5;28mself\u001b[39m\u001b[38;5;241m.\u001b[39memptyPrinter(expr)\n",
            "File \u001b[0;32m~/miniconda3/lib/python3.12/site-packages/sympy/printing/codeprinter.py:477\u001b[0m, in \u001b[0;36mCodePrinter._print_Derivative\u001b[0;34m(self, expr)\u001b[0m\n\u001b[1;32m    475\u001b[0m \u001b[38;5;28;01mif\u001b[39;00m pmeth \u001b[38;5;129;01mis\u001b[39;00m \u001b[38;5;28;01mNone\u001b[39;00m:\n\u001b[1;32m    476\u001b[0m     \u001b[38;5;28;01mif\u001b[39;00m \u001b[38;5;28mself\u001b[39m\u001b[38;5;241m.\u001b[39m_settings\u001b[38;5;241m.\u001b[39mget(\u001b[38;5;124m'\u001b[39m\u001b[38;5;124mstrict\u001b[39m\u001b[38;5;124m'\u001b[39m, \u001b[38;5;28;01mFalse\u001b[39;00m):\n\u001b[0;32m--> 477\u001b[0m         \u001b[38;5;28;01mraise\u001b[39;00m PrintMethodNotImplementedError(\n\u001b[1;32m    478\u001b[0m             \u001b[38;5;124mf\u001b[39m\u001b[38;5;124m\"\u001b[39m\u001b[38;5;124mUnsupported by \u001b[39m\u001b[38;5;132;01m{\u001b[39;00m\u001b[38;5;28mtype\u001b[39m(\u001b[38;5;28mself\u001b[39m)\u001b[38;5;132;01m}\u001b[39;00m\u001b[38;5;124m: \u001b[39m\u001b[38;5;132;01m{\u001b[39;00m\u001b[38;5;28mtype\u001b[39m(expr)\u001b[38;5;132;01m}\u001b[39;00m\u001b[38;5;124m\"\u001b[39m \u001b[38;5;241m+\u001b[39m\n\u001b[1;32m    479\u001b[0m             \u001b[38;5;124mf\u001b[39m\u001b[38;5;124m\"\u001b[39m\u001b[38;5;130;01m\\n\u001b[39;00m\u001b[38;5;124mPrinter has no method: \u001b[39m\u001b[38;5;132;01m{\u001b[39;00mmeth_name\u001b[38;5;132;01m}\u001b[39;00m\u001b[38;5;124m\"\u001b[39m \u001b[38;5;241m+\u001b[39m\n\u001b[1;32m    480\u001b[0m             \u001b[38;5;124m\"\u001b[39m\u001b[38;5;130;01m\\n\u001b[39;00m\u001b[38;5;124mSet the printer option \u001b[39m\u001b[38;5;124m'\u001b[39m\u001b[38;5;124mstrict\u001b[39m\u001b[38;5;124m'\u001b[39m\u001b[38;5;124m to False in order to generate partially printed code.\u001b[39m\u001b[38;5;124m\"\u001b[39m\n\u001b[1;32m    481\u001b[0m         )\n\u001b[1;32m    482\u001b[0m     \u001b[38;5;28;01mreturn\u001b[39;00m \u001b[38;5;28mself\u001b[39m\u001b[38;5;241m.\u001b[39m_print_not_supported(expr)\n\u001b[1;32m    483\u001b[0m orders \u001b[38;5;241m=\u001b[39m \u001b[38;5;28mdict\u001b[39m(wrt_order_pairs)\n",
            "\u001b[0;31mPrintMethodNotImplementedError\u001b[0m: Unsupported by <class 'sympy.printing.numpy.NumPyPrinter'>: <class 'sympy.core.function.Derivative'>\nPrinter has no method: _print_Derivative_re\nSet the printer option 'strict' to False in order to generate partially printed code."
          ]
        }
      ],
      "source": [
        "dfdx_abs_numpy = lambdify(x, dfdx_abs,'numpy')\n",
        "\n",
        "try:\n",
        "    dfdx_abs_numpy(np.array([1, -2, 0]))\n",
        "except NameError as err:\n",
        "    print(err)"
      ]
    },
    {
      "cell_type": "markdown",
      "id": "3e1f3c94",
      "metadata": {
        "id": "3e1f3c94"
      },
      "source": [
        "In fact, there are problems with the evaluation of the symbolic expressions wherever there is a \"jump\" in the derivative (e.g. function expressions are different for different intervals of $x$), like it happens with $\\frac{d}{dx}\\left(\\left|x\\right|\\right)$.\n",
        "\n",
        "Also, you can see in this example, that you can get a very complicated function as an output of symbolic computation. This is called **expression swell**, which results in unefficiently slow computations. You will see the example of that below after learning other differentiation libraries in Python."
      ]
    },
    {
      "cell_type": "markdown",
      "id": "1cb85963",
      "metadata": {
        "id": "1cb85963"
      },
      "source": [
        "<a name='3'></a>\n",
        "## 3 - Numerical Differentiation\n",
        "\n",
        "This method does not take into account the function expression. The only important thing is that the function can be evaluated in the nearby points $x$ and $x+\\Delta x$, where $\\Delta x$ is sufficiently small. Then $\\frac{df}{dx}\\approx\\frac{f\\left(x + \\Delta x\\right) - f\\left(x\\right)}{\\Delta x}$, which can be called a **numerical approximation** of the derivative.\n",
        "\n",
        "Based on that idea there are different approaches for the numerical approximations, which somehow vary in the computation speed and accuracy. However, for all of the methods the results are not accurate - there is a round off error. At this stage there is no need to go into details of various methods, it is enough to investigate one of the numerial differentiation functions, available in `NumPy` package."
      ]
    },
    {
      "cell_type": "markdown",
      "id": "1cc2a87e",
      "metadata": {
        "id": "1cc2a87e"
      },
      "source": [
        "<a name='3.1'></a>\n",
        "### 3.1 - Numerical Differentiation with `NumPy`"
      ]
    },
    {
      "cell_type": "markdown",
      "id": "c469b76c",
      "metadata": {
        "id": "c469b76c"
      },
      "source": [
        "You can call function `np.gradient` to find the derivative of function $f\\left(x\\right) = x^2$ defined above. The first argument is an array of function values, the second defines the spacing $\\Delta x$ for the evaluation. Here pass it as an array of $x$ values, the differences will be calculated automatically. You can find the documentation [here](https://numpy.org/doc/stable/reference/generated/numpy.gradient.html)."
      ]
    },
    {
      "cell_type": "code",
      "execution_count": null,
      "id": "b275519f",
      "metadata": {
        "id": "b275519f"
      },
      "outputs": [
        {
          "data": {
            "image/png": "[encoded data removed]",
            "text/plain": [
              "<Figure size 640x480 with 1 Axes>"
            ]
          },
          "metadata": {},
          "output_type": "display_data"
        }
      ],
      "source": [
        "x_array_2 = np.linspace(-5, 5, 100)\n",
        "dfdx_numerical = np.gradient(f(x_array_2), x_array_2)\n",
        "\n",
        "plot_f1_and_f2(dfdx_symb_numpy, dfdx_numerical, label1=\"f'(x) exact\", label2=\"f'(x) approximate\")"
      ]
    },
    {
      "cell_type": "markdown",
      "id": "6a1d5843",
      "metadata": {
        "id": "6a1d5843"
      },
      "source": [
        "Try to do numerical differentiation for more complicated function:"
      ]
    },
    {
      "cell_type": "code",
      "execution_count": null,
      "id": "9fa0d7cf",
      "metadata": {
        "id": "9fa0d7cf"
      },
      "outputs": [
        {
          "data": {
            "image/png": "[encoded data removed]",
            "text/plain": [
              "<Figure size 640x480 with 1 Axes>"
            ]
          },
          "metadata": {},
          "output_type": "display_data"
        }
      ],
      "source": [
        "def f_composed(x):\n",
        "    return np.exp(-2*x) + 3*np.sin(3*x)\n",
        "\n",
        "plot_f1_and_f2(lambdify(x, dfdx_composed, 'numpy'), np.gradient(f_composed(x_array_2), x_array_2),\n",
        "              label1=\"f'(x) exact\", label2=\"f'(x) approximate\")"
      ]
    },
    {
      "cell_type": "markdown",
      "id": "826da796",
      "metadata": {
        "id": "826da796"
      },
      "source": [
        "The results are pretty impressive, keeping in mind that it does not matter at all how the function was calculated - only the final values of it!"
      ]
    },
    {
      "cell_type": "markdown",
      "id": "bc60825b",
      "metadata": {
        "id": "bc60825b"
      },
      "source": [
        "<a name='3.2'></a>\n",
        "### 3.2 - Limitations of Numerical Differentiation"
      ]
    },
    {
      "cell_type": "markdown",
      "id": "8dbf76a0",
      "metadata": {
        "id": "8dbf76a0"
      },
      "source": [
        "Obviously, the first downside of the numerical differentiation is that it is not exact. However, the accuracy of it is normally enough for machine learning applications. At this stage there is no need to evaluate errors of the numerical differentiation.\n",
        "\n",
        "Another problem is similar to the one which appeared in the symbolic differentiation: it is inaccurate at the points where there are \"jumps\" of the derivative. Let's compare the exact derivative of the absolute value function and with numerical approximation:"
      ]
    },
    {
      "cell_type": "code",
      "execution_count": null,
      "id": "28bb6a5f",
      "metadata": {
        "id": "28bb6a5f"
      },
      "outputs": [
        {
          "data": {
            "image/png": "[encoded data removed]",
            "text/plain": [
              "<Figure size 640x480 with 1 Axes>"
            ]
          },
          "metadata": {},
          "output_type": "display_data"
        }
      ],
      "source": [
        "def dfdx_abs(x):\n",
        "    if x > 0:\n",
        "        return 1\n",
        "    else:\n",
        "        if x < 0:\n",
        "            return -1\n",
        "        else:\n",
        "            return None\n",
        "\n",
        "plot_f1_and_f2(np.vectorize(dfdx_abs), np.gradient(abs(x_array_2), x_array_2))"
      ]
    },
    {
      "cell_type": "markdown",
      "id": "00ccb653",
      "metadata": {
        "id": "00ccb653"
      },
      "source": [
        "You can see that the results near the \"jump\" are $0.5$ and $-0.5$, while they should be $1$ and $-1$. These cases can give significant errors in the computations.\n",
        "\n",
        "But the biggest problem with the numerical differentiation is slow speed. It requires function evalutation every time.  In machine learning models there are hundreds of parameters and there are hundreds of derivatives to be calculated, performing full function evaluation every time slows down the computation process. You will see the example of it below."
      ]
    },
    {
      "cell_type": "markdown",
      "id": "2caeb33f",
      "metadata": {
        "id": "2caeb33f"
      },
      "source": [
        "<a name='4'></a>\n",
        "## 4 - Automatic Differentiation"
      ]
    },
    {
      "cell_type": "markdown",
      "id": "eba8f444",
      "metadata": {
        "id": "eba8f444"
      },
      "source": [
        "**Automatic differentiation** (autodiff) method breaks down the function into common functions ($sin$, $cos$, $log$, power functions, etc.), and constructs the computational graph consisting of the basic functions. Then the chain rule is used to compute the derivative at any node of the graph. It is the most commonly used approach in machine learning applications and neural networks, as the computational graph for the function and its derivatives can be built during the construction of the neural network, saving in future computations.\n",
        "\n",
        "The main disadvantage of it is implementational difficulty. However, nowadays there are libraries that are convenient to use, such as [MyGrad](https://mygrad.readthedocs.io/en/latest/index.html), [Autograd](https://autograd.readthedocs.io/en/latest/) and [JAX](https://jax.readthedocs.io/en/latest/). `Autograd` and `JAX` are the most commonly used in the frameworks to build neural networks. `JAX` brings together `Autograd` functionality for optimization problems, and `XLA` (Accelerated Linear Algebra) compiler for parallel computing.\n",
        "\n",
        "The syntax of `Autograd` and `JAX` are slightly different. It would be overwhelming to cover both at this stage. In this notebook you will be performing automatic differentiation using one of them: `JAX`."
      ]
    },
    {
      "cell_type": "markdown",
      "id": "20071067",
      "metadata": {
        "id": "20071067"
      },
      "source": [
        "<a name='4.1'></a>\n",
        "### 4.1 - Introduction to `JAX`"
      ]
    },
    {
      "cell_type": "markdown",
      "id": "f444d827",
      "metadata": {
        "id": "f444d827"
      },
      "source": [
        "To begin with, load the required libraries. From `jax` package you need to load just a couple of functions for now (`grad` and `vmap`). Package `jax.numpy` is a wrapped `NumPy`, which pretty much replaces `NumPy` when `JAX` is used. It can be loaded as `np` as if it was an original `NumPy` in most of the cases. However, in this notebook you'll upload it as `jnp` to distinguish them for now."
      ]
    },
    {
      "cell_type": "code",
      "execution_count": null,
      "id": "85d818ea",
      "metadata": {
        "id": "85d818ea"
      },
      "outputs": [],
      "source": [
        "from jax import grad, vmap\n",
        "import jax.numpy as jnp"
      ]
    },
    {
      "cell_type": "markdown",
      "id": "d42ede8e",
      "metadata": {
        "id": "d42ede8e"
      },
      "source": [
        "Create a new `jnp` array and check its type."
      ]
    },
    {
      "cell_type": "code",
      "execution_count": null,
      "id": "8856647c",
      "metadata": {
        "id": "8856647c"
      },
      "outputs": [
        {
          "name": "stdout",
          "output_type": "stream",
          "text": [
            "Type of NumPy array: <class 'numpy.ndarray'>\n",
            "Type of JAX NumPy array: <class 'jaxlib._jax.ArrayImpl'>\n"
          ]
        }
      ],
      "source": [
        "x_array_jnp = jnp.array([1., 2., 3.])\n",
        "\n",
        "print(\"Type of NumPy array:\", type(x_array))\n",
        "print(\"Type of JAX NumPy array:\", type(x_array_jnp))\n",
        "# Please ignore the warning message if it appears."
      ]
    },
    {
      "cell_type": "markdown",
      "id": "730a2dd3",
      "metadata": {
        "id": "730a2dd3"
      },
      "source": [
        "The same array can be created just converting previously defined `x_array = np.array([1, 2, 3])`, although in some cases `JAX` does not operate with integers, thus the values need to be converted to floats. You will see an example of it below."
      ]
    },
    {
      "cell_type": "code",
      "execution_count": null,
      "id": "3008671b",
      "metadata": {
        "id": "3008671b"
      },
      "outputs": [
        {
          "name": "stdout",
          "output_type": "stream",
          "text": [
            "JAX NumPy array: [1. 2. 3.]\n",
            "Type of JAX NumPy array: <class 'jaxlib._jax.ArrayImpl'>\n"
          ]
        }
      ],
      "source": [
        "x_array_jnp = jnp.array(x_array.astype('float32'))\n",
        "print(\"JAX NumPy array:\", x_array_jnp)\n",
        "print(\"Type of JAX NumPy array:\", type(x_array_jnp))"
      ]
    },
    {
      "cell_type": "markdown",
      "id": "f81ce077",
      "metadata": {
        "id": "f81ce077"
      },
      "source": [
        "Note, that `jnp` array has a specific type `jaxlib.xla_extension.DeviceArray`. In most of the cases the same operators and functions are applicable to them as in the original `NumPy`, for example:"
      ]
    },
    {
      "cell_type": "code",
      "execution_count": null,
      "id": "742003ec",
      "metadata": {
        "id": "742003ec"
      },
      "outputs": [
        {
          "name": "stdout",
          "output_type": "stream",
          "text": [
            "[2. 4. 6.]\n",
            "3.0\n"
          ]
        }
      ],
      "source": [
        "print(x_array_jnp * 2)\n",
        "print(x_array_jnp[2])"
      ]
    },
    {
      "cell_type": "markdown",
      "id": "3c7ef8a4",
      "metadata": {
        "id": "3c7ef8a4"
      },
      "source": [
        "But sometimes working with `jnp` arrays the approach needs to be changed. In the following code, trying to assign a new value to one of the elements, you will get an error:"
      ]
    },
    {
      "cell_type": "code",
      "execution_count": null,
      "id": "3fc00cab",
      "metadata": {
        "id": "3fc00cab"
      },
      "outputs": [
        {
          "name": "stdout",
          "output_type": "stream",
          "text": [
            "JAX arrays are immutable and do not support in-place item assignment. Instead of x[idx] = y, use x = x.at[idx].set(y) or another .at[] method: https://docs.jax.dev/en/latest/_autosummary/jax.numpy.ndarray.at.html\n"
          ]
        }
      ],
      "source": [
        "try:\n",
        "    x_array_jnp[2] = 4.0\n",
        "except TypeError as err:\n",
        "    print(err)"
      ]
    },
    {
      "cell_type": "markdown",
      "id": "cf9e29fe",
      "metadata": {
        "id": "cf9e29fe"
      },
      "source": [
        "To assign a new value to an element in the `jnp` array you need to apply functions `.at[i]`, stating which element to update, and `.set(value)` to set a new value. These functions also operate **out-of-place**, the updated array is returned as a new array and the original array is not modified by the update."
      ]
    },
    {
      "cell_type": "code",
      "execution_count": null,
      "id": "ffc53ad2",
      "metadata": {
        "id": "ffc53ad2"
      },
      "outputs": [
        {
          "name": "stdout",
          "output_type": "stream",
          "text": [
            "[1. 2. 4.]\n"
          ]
        }
      ],
      "source": [
        "y_array_jnp = x_array_jnp.at[2].set(4.0)\n",
        "print(y_array_jnp)"
      ]
    },
    {
      "cell_type": "markdown",
      "id": "05a07ce0",
      "metadata": {
        "id": "05a07ce0"
      },
      "source": [
        "Although, some of the `JAX` functions will work with arrays defined with `np` and `jnp`. In the following code you will get the same result in both lines:"
      ]
    },
    {
      "cell_type": "code",
      "execution_count": null,
      "id": "5b80429d",
      "metadata": {
        "id": "5b80429d"
      },
      "outputs": [
        {
          "name": "stdout",
          "output_type": "stream",
          "text": [
            "[0.        0.6931472 1.0986123]\n",
            "[0.        0.6931472 1.0986123]\n"
          ]
        }
      ],
      "source": [
        "print(jnp.log(x_array))\n",
        "print(jnp.log(x_array_jnp))"
      ]
    },
    {
      "cell_type": "markdown",
      "id": "89397092",
      "metadata": {
        "id": "89397092"
      },
      "source": [
        "This is probably confusing - which `NumPy` to use then? Usually when `JAX` is used, only `jax.numpy` gets imported as `np`, and used instead of the original one."
      ]
    },
    {
      "cell_type": "markdown",
      "id": "20f12b94",
      "metadata": {
        "id": "20f12b94"
      },
      "source": [
        " <a name='4.2'></a>\n",
        "### 4.2 - Automatic Differentiation with `JAX`"
      ]
    },
    {
      "cell_type": "markdown",
      "id": "9cd26792",
      "metadata": {
        "id": "9cd26792"
      },
      "source": [
        "Time to do automatic differentiation with `JAX`. The following code will calculate the derivative of the previously defined function $f\\left(x\\right) = x^2$ at the point $x = 3$:"
      ]
    },
    {
      "cell_type": "code",
      "execution_count": null,
      "id": "070e417a",
      "metadata": {
        "id": "070e417a"
      },
      "outputs": [
        {
          "name": "stdout",
          "output_type": "stream",
          "text": [
            "Function value at x = 3: 9.0\n",
            "Derivative value at x = 3: 6.0\n"
          ]
        }
      ],
      "source": [
        "print(\"Function value at x = 3:\", f(3.0))\n",
        "print(\"Derivative value at x = 3:\",grad(f)(3.0))"
      ]
    },
    {
      "cell_type": "markdown",
      "id": "3514bda9",
      "metadata": {
        "id": "3514bda9"
      },
      "source": [
        "Very easy, right? Keep in mind, please, that this cannot be done using integers. The following code will output an error:"
      ]
    },
    {
      "cell_type": "code",
      "execution_count": null,
      "id": "a50295a3",
      "metadata": {
        "id": "a50295a3"
      },
      "outputs": [
        {
          "name": "stdout",
          "output_type": "stream",
          "text": [
            "grad requires real- or complex-valued inputs (input dtype that is a sub-dtype of np.inexact), but got int32. If you want to use Boolean- or integer-valued inputs, use vjp or set allow_int to True.\n"
          ]
        }
      ],
      "source": [
        "try:\n",
        "    grad(f)(3)\n",
        "except TypeError as err:\n",
        "    print(err)"
      ]
    },
    {
      "cell_type": "markdown",
      "id": "872bbbc6",
      "metadata": {
        "id": "872bbbc6"
      },
      "source": [
        "Try to apply the `grad` function to an array, calculating the derivative for each of its elements:"
      ]
    },
    {
      "cell_type": "code",
      "execution_count": null,
      "id": "caf0e431",
      "metadata": {
        "id": "caf0e431"
      },
      "outputs": [
        {
          "name": "stdout",
          "output_type": "stream",
          "text": [
            "Gradient only defined for scalar-output functions. Output had shape: (3,).\n"
          ]
        }
      ],
      "source": [
        "try:\n",
        "    grad(f)(x_array_jnp)\n",
        "except TypeError as err:\n",
        "    print(err)"
      ]
    },
    {
      "cell_type": "markdown",
      "id": "9452ebc2",
      "metadata": {
        "id": "9452ebc2"
      },
      "source": [
        "There is some broadcasting issue there. You don't need to get into more details of this at this stage, function `vmap` can be used here to solve the problem.\n",
        "\n",
        "*Note*: Broadcasting is covered in the Course 1 of this Specialization \"Linear Algebra\". You can also review it in the documentation [here](https://numpy.org/doc/stable/user/basics.broadcasting.html#:~:text=The%20term%20broadcasting%20describes%20how,that%20they%20have%20compatible%20shapes.)."
      ]
    },
    {
      "cell_type": "code",
      "execution_count": null,
      "id": "f9b28641",
      "metadata": {
        "id": "f9b28641"
      },
      "outputs": [
        {
          "name": "stdout",
          "output_type": "stream",
          "text": [
            "[2. 4. 6.]\n"
          ]
        }
      ],
      "source": [
        "dfdx_jax_vmap = vmap(grad(f))(x_array_jnp)\n",
        "print(dfdx_jax_vmap)"
      ]
    },
    {
      "cell_type": "markdown",
      "id": "933e382f",
      "metadata": {
        "id": "933e382f"
      },
      "source": [
        "Great, now `vmap(grad(f))` can be used to calculate the derivative of function `f` for arrays of larger size and you can plot the output:"
      ]
    },
    {
      "cell_type": "code",
      "execution_count": null,
      "id": "da0a1262",
      "metadata": {
        "id": "da0a1262"
      },
      "outputs": [
        {
          "data": {
            "image/png": "[encoded data removed]",
            "text/plain": [
              "<Figure size 640x480 with 1 Axes>"
            ]
          },
          "metadata": {},
          "output_type": "display_data"
        }
      ],
      "source": [
        "plot_f1_and_f2(f, vmap(grad(f)))"
      ]
    },
    {
      "cell_type": "markdown",
      "id": "4162d5e5",
      "metadata": {
        "id": "4162d5e5"
      },
      "source": [
        "In the following code you can comment/uncomment lines to visualize the common derivatives. All of them are found using `JAX` automatic differentiation. The results look pretty good!"
      ]
    },
    {
      "cell_type": "code",
      "execution_count": null,
      "id": "f68b4c0e",
      "metadata": {
        "id": "f68b4c0e"
      },
      "outputs": [
        {
          "data": {
            "image/png": "[encoded data removed]",
            "text/plain": [
              "<Figure size 640x480 with 1 Axes>"
            ]
          },
          "metadata": {},
          "output_type": "display_data"
        }
      ],
      "source": [
        "def g(x):\n",
        "#     return x**3\n",
        "#     return 2*x**3 - 3*x**2 + 5\n",
        "#     return 1/x\n",
        "#     return jnp.exp(x)\n",
        "#     return jnp.log(x)\n",
        "#     return jnp.sin(x)\n",
        "#     return jnp.cos(x)\n",
        "    return jnp.abs(x)\n",
        "#     return jnp.abs(x)+jnp.sin(x)*jnp.cos(x)\n",
        "\n",
        "plot_f1_and_f2(g, vmap(grad(g)))"
      ]
    },
    {
      "cell_type": "markdown",
      "id": "a58ee858",
      "metadata": {
        "id": "a58ee858"
      },
      "source": [
        "<a name='5'></a>\n",
        "## 5 - Computational Efficiency of Symbolic, Numerical and Automatic Differentiation"
      ]
    },
    {
      "cell_type": "markdown",
      "id": "2211158e",
      "metadata": {
        "id": "2211158e"
      },
      "source": [
        "In sections [2.3](#2.3) and [3.2](#3.2) low computational efficiency of symbolic and numerical differentiation was discussed. Now it is time to compare speed of calculations for each of three approaches. Try to find the derivative of the same simple function $f\\left(x\\right) = x^2$ multiple times, evaluating it for an array of a larger size, compare the results and time used:"
      ]
    },
    {
      "cell_type": "code",
      "execution_count": null,
      "id": "36c42dac",
      "metadata": {
        "id": "36c42dac"
      },
      "outputs": [
        {
          "name": "stdout",
          "output_type": "stream",
          "text": [
            "Results\n",
            "Symbolic Differentiation:\n",
            "[-10.       -9.99998  -9.99996 ...   9.99996   9.99998  10.     ]\n",
            "Numerical Differentiation:\n",
            "[-9.99999 -9.99998 -9.99996 ...  9.99996  9.99998  9.99999]\n",
            "Automatic Differentiation:\n",
            "[-10.       -9.99998  -9.99996 ...   9.99996   9.99998  10.     ]\n",
            "\n",
            "\n",
            "Time\n",
            "Symbolic Differentiation:\n",
            "6.119012832641602 ms\n",
            "Numerical Differentiation:\n",
            "59.65757369995117 ms\n",
            "Automatic Differentiation:\n",
            "159.03234481811523 ms\n"
          ]
        }
      ],
      "source": [
        "import timeit, time\n",
        "\n",
        "x_array_large = np.linspace(-5, 5, 1000000)\n",
        "\n",
        "tic_symb = time.time()\n",
        "res_symb = lambdify(x, diff(f(x),x),'numpy')(x_array_large)\n",
        "toc_symb = time.time()\n",
        "time_symb = 1000 * (toc_symb - tic_symb)  # Time in ms.\n",
        "\n",
        "tic_numerical = time.time()\n",
        "res_numerical = np.gradient(f(x_array_large),x_array_large)\n",
        "toc_numerical = time.time()\n",
        "time_numerical = 1000 * (toc_numerical - tic_numerical)\n",
        "\n",
        "tic_jax = time.time()\n",
        "res_jax = vmap(grad(f))(jnp.array(x_array_large.astype('float32')))\n",
        "toc_jax = time.time()\n",
        "time_jax = 1000 * (toc_jax - tic_jax)\n",
        "\n",
        "print(f\"Results\\nSymbolic Differentiation:\\n{res_symb}\\n\" +\n",
        "      f\"Numerical Differentiation:\\n{res_numerical}\\n\" +\n",
        "      f\"Automatic Differentiation:\\n{res_jax}\")\n",
        "\n",
        "print(f\"\\n\\nTime\\nSymbolic Differentiation:\\n{time_symb} ms\\n\" +\n",
        "      f\"Numerical Differentiation:\\n{time_numerical} ms\\n\" +\n",
        "      f\"Automatic Differentiation:\\n{time_jax} ms\")"
      ]
    },
    {
      "cell_type": "markdown",
      "id": "493e5457",
      "metadata": {
        "id": "493e5457"
      },
      "source": [
        "The results are pretty much the same, but the time used is different. Numerical approach is obviously inefficient when differentiation needs to be performed many times, which happens a lot training machine learning models. Symbolic and automatic approach seem to be performing similarly for this simple example. But if the function becomes a little bit more complicated, symbolic computation will experiance significant expression swell and the calculations will slow down.\n",
        "\n",
        "*Note*: Sometimes the execution time results may vary slightly, especially for automatic differentiation. You can run the code above a few time to see different outputs. That does not influence the conclusion that numerical differentiation is slower. `timeit` module can be used more efficiently to evaluate execution time of the codes, but that would unnecessary overcomplicate the codes here.\n",
        "\n",
        "Try to define some polynomial function, which should not be that hard to differentiate, and compare the computation time for its differentiation symbolically and automatically:"
      ]
    },
    {
      "cell_type": "code",
      "execution_count": null,
      "id": "13047a93",
      "metadata": {
        "id": "13047a93"
      },
      "outputs": [
        {
          "name": "stdout",
          "output_type": "stream",
          "text": [
            "Results\n",
            "Symbolic Differentiation:\n",
            "[2.88570423e+24 2.88556400e+24 2.88542377e+24 ... 1.86202587e+22\n",
            " 1.86213384e+22 1.86224181e+22]\n",
            "Automatic Differentiation:\n",
            "[2.8857043e+24 2.8855642e+24 2.8854241e+24 ... 1.8620253e+22 1.8621349e+22\n",
            " 1.8622416e+22]\n",
            "\n",
            "\n",
            "Time\n",
            "Symbolic Differentiation:\n",
            "483.0787181854248 ms\n",
            "Automatic Differentiation:\n",
            "434.92627143859863 ms\n"
          ]
        }
      ],
      "source": [
        "def f_polynomial_simple(x):\n",
        "    return 2*x**3 - 3*x**2 + 5\n",
        "\n",
        "def f_polynomial(x):\n",
        "    for i in range(3):\n",
        "        x = f_polynomial_simple(x)\n",
        "    return x\n",
        "\n",
        "tic_polynomial_symb = time.time()\n",
        "res_polynomial_symb = lambdify(x, diff(f_polynomial(x),x),'numpy')(x_array_large)\n",
        "toc_polynomial_symb = time.time()\n",
        "time_polynomial_symb = 1000 * (toc_polynomial_symb - tic_polynomial_symb)\n",
        "\n",
        "tic_polynomial_jax = time.time()\n",
        "res_polynomial_jax = vmap(grad(f_polynomial))(jnp.array(x_array_large.astype('float32')))\n",
        "toc_polynomial_jax = time.time()\n",
        "time_polynomial_jax = 1000 * (toc_polynomial_jax - tic_polynomial_jax)\n",
        "\n",
        "print(f\"Results\\nSymbolic Differentiation:\\n{res_polynomial_symb}\\n\" +\n",
        "      f\"Automatic Differentiation:\\n{res_polynomial_jax}\")\n",
        "\n",
        "print(f\"\\n\\nTime\\nSymbolic Differentiation:\\n{time_polynomial_symb} ms\\n\" +\n",
        "      f\"Automatic Differentiation:\\n{time_polynomial_jax} ms\")"
      ]
    },
    {
      "cell_type": "markdown",
      "id": "231c9da0",
      "metadata": {
        "id": "231c9da0"
      },
      "source": [
        "Again, the results are similar, but automatic differentiation is times faster.\n",
        "\n",
        "With the increase of function computation graph, the efficiency of automatic differentiation compared to other methods raises, because autodiff method uses chain rule!"
      ]
    }
  ],
  "metadata": {
    "colab": {
      "include_colab_link": true,
      "provenance": [],
      "toc_visible": true
    },
    "kernelspec": {
      "display_name": "base",
      "language": "python",
      "name": "python3"
    },
    "language_info": {
      "codemirror_mode": {
        "name": "ipython",
        "version": 3
      },
      "file_extension": ".py",
      "mimetype": "text/x-python",
      "name": "python",
      "nbconvert_exporter": "python",
      "pygments_lexer": "ipython3",
      "version": "3.12.8"
    }
  },
  "nbformat": 4,
  "nbformat_minor": 5
}
