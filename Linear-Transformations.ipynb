{
  "cells": [
    {
      "cell_type": "markdown",
      "metadata": {
        "id": "EAt-K2qgcIou"
      },
      "source": [
        "# Linear Transformations"
      ]
    },
    {
      "cell_type": "code",
      "execution_count": 3,
      "metadata": {
        "id": "_p9UPTmEHs-i"
      },
      "outputs": [],
      "source": [
        "import numpy as np\n",
        "# OpenCV library for image transformations.\n",
        "import cv2"
      ]
    },
    {
      "cell_type": "markdown",
      "metadata": {
        "id": "7XE6P8jJHs-j"
      },
      "source": [
        "<a name='1'></a>\n",
        "## 1 - Transformations\n",
        "\n",
        "A **transformation** is a function from one vector space to another that respects the underlying (linear) structure of each vector space. Referring to a specific transformation, you can use a symbol, such as $T$. Specifying the spaces containing the input and output vectors, e.g. $\\mathbb{R}^2$ and $\\mathbb{R}^3$, you can write $T: \\mathbb{R}^2 \\rightarrow \\mathbb{R}^3$. Transforming vector $v \\in \\mathbb{R}^2$ into the vector $w\\in\\mathbb{R}^3$ by the transformation $T$, you can use the notation $T(v)=w$ and read it as \"*T of v equals to w*\" or \"*vector w is an **image** of vector v with the transformation T*\".\n",
        "\n",
        "The following Python function corresponds to the transformation $T: \\mathbb{R}^2 \\rightarrow \\mathbb{R}^3$ with the following symbolic formula:\n",
        "\n",
        "$$T\\begin{pmatrix}\n",
        "          \\begin{bmatrix}\n",
        "           v_1 \\\\           \n",
        "           v_2\n",
        "          \\end{bmatrix}\\end{pmatrix}=\n",
        "          \\begin{bmatrix}\n",
        "           3v_1 \\\\\n",
        "           0 \\\\\n",
        "           -2v_2\n",
        "          \\end{bmatrix}\n",
        "          \\tag{1}\n",
        "          $$"
      ]
    },
    {
      "cell_type": "code",
      "execution_count": 4,
      "metadata": {
        "colab": {
          "base_uri": "https://localhost:8080/"
        },
        "id": "Je3yV0Wnn5x8",
        "outputId": "db68e4f7-bb84-40eb-8d6f-c30f7072c69c",
        "scrolled": true
      },
      "outputs": [
        {
          "name": "stdout",
          "output_type": "stream",
          "text": [
            "Original vector:\n",
            " [[3]\n",
            " [5]] \n",
            "\n",
            " Result of the transformation:\n",
            " [[  9.]\n",
            " [  0.]\n",
            " [-10.]]\n"
          ]
        }
      ],
      "source": [
        "def T(v):\n",
        "    w = np.zeros((3,1))\n",
        "    w[0,0] = 3*v[0,0]\n",
        "    w[2,0] = -2*v[1,0]\n",
        "\n",
        "    return w\n",
        "\n",
        "v = np.array([[3], [5]])\n",
        "w = T(v)\n",
        "\n",
        "print(\"Original vector:\\n\", v, \"\\n\\n Result of the transformation:\\n\", w)"
      ]
    },
    {
      "cell_type": "markdown",
      "metadata": {
        "id": "4Bi0MumUHs-k"
      },
      "source": [
        "<a name='2'></a>\n",
        "## 2 - Linear Transformations\n",
        "\n",
        "A transformation $T$ is said to be **linear** if the following two properties are true for any scalar $k$, and any input vectors $u$ and $v$:\n",
        "\n",
        "1. $T(kv)=kT(v)$,\n",
        "2. $T(u+v)=T(u)+T(v)$.\n",
        "\n",
        "In the example above $T$ is a linear transformation:\n",
        "\n",
        "$$T (kv) =\n",
        "          T \\begin{pmatrix}\\begin{bmatrix}\n",
        "          kv_1 \\\\\n",
        "          kv_2\n",
        "          \\end{bmatrix}\\end{pmatrix} =\n",
        "          \\begin{bmatrix}\n",
        "           3kv_1 \\\\\n",
        "           0 \\\\\n",
        "           -2kv_2\n",
        "          \\end{bmatrix} =\n",
        "          k\\begin{bmatrix}\n",
        "           3v_1 \\\\\n",
        "           0 \\\\\n",
        "           -2v_2\n",
        "          \\end{bmatrix} =\n",
        "          kT(v),\\tag{2}$$\n",
        "          \n",
        "$$T (u+v) =\n",
        "          T \\begin{pmatrix}\\begin{bmatrix}\n",
        "          u_1 + v_1 \\\\\n",
        "          u_2 + v_2\n",
        "          \\end{bmatrix}\\end{pmatrix} =\n",
        "          \\begin{bmatrix}\n",
        "           3(u_1+v_1) \\\\\n",
        "           0 \\\\\n",
        "           -2(u_2+v_2)\n",
        "          \\end{bmatrix} =\n",
        "          \\begin{bmatrix}\n",
        "           3u_1 \\\\\n",
        "           0 \\\\\n",
        "           -2u_2\n",
        "          \\end{bmatrix} +\n",
        "          \\begin{bmatrix}\n",
        "           3v_1 \\\\\n",
        "           0 \\\\\n",
        "           -2v_2\n",
        "          \\end{bmatrix} =\n",
        "          T(u)+T(v).\\tag{3}$$"
      ]
    },
    {
      "cell_type": "markdown",
      "metadata": {
        "id": "u-0V1mNXHs-k"
      },
      "source": [
        "You can change the values of $k$ or vectors $u$ and $v$ in the cell below, to check that this is true for some specific values.\n",
        "Some examples of linear transformations are rotations, reflections, scaling (dilations), etc."
      ]
    },
    {
      "cell_type": "code",
      "execution_count": 5,
      "metadata": {
        "colab": {
          "base_uri": "https://localhost:8080/"
        },
        "id": "eN0UvG2RHs-k",
        "outputId": "adaa0585-d2f0-4284-c378-dfdf70857140"
      },
      "outputs": [
        {
          "name": "stdout",
          "output_type": "stream",
          "text": [
            "T(k*v):\n",
            " [[ 42.]\n",
            " [  0.]\n",
            " [-56.]] \n",
            " k*T(v):\n",
            " [[ 42.]\n",
            " [  0.]\n",
            " [-56.]] \n",
            "\n",
            "\n",
            "T(u+v):\n",
            " [[ 9.]\n",
            " [ 0.]\n",
            " [-4.]] \n",
            " T(u)+T(v):\n",
            " [[ 9.]\n",
            " [ 0.]\n",
            " [-4.]]\n"
          ]
        }
      ],
      "source": [
        "u = np.array([[1], [-2]])\n",
        "v = np.array([[2], [4]])\n",
        "\n",
        "k = 7\n",
        "\n",
        "print(\"T(k*v):\\n\", T(k*v), \"\\n k*T(v):\\n\", k*T(v), \"\\n\\n\")\n",
        "print(\"T(u+v):\\n\", T(u+v), \"\\n T(u)+T(v):\\n\", T(u)+T(v))"
      ]
    },
    {
      "cell_type": "markdown",
      "metadata": {
        "id": "zVlLsjEZHs-l"
      },
      "source": [
        "<a name='3'></a>\n",
        "## 3 - Transformations Defined as a Matrix Multiplication\n",
        "\n",
        "Let $L: \\mathbb{R}^m \\rightarrow \\mathbb{R}^n$ be defined by a matrix $A$, where $L(v)=Av$, multiplication of the matrix $A$ ($n\\times m$) and vector $v$ ($m\\times 1$) resulting in the vector $w$ ($n\\times 1$).\n",
        "\n",
        "Now try to guess, what should be the elements of matrix $A$, corresponding to the transformation $L: \\mathbb{R}^2 \\rightarrow \\mathbb{R}^3$:\n",
        "\n",
        "$$L\\begin{pmatrix}\n",
        "          \\begin{bmatrix}\n",
        "           v_1 \\\\           \n",
        "           v_2\n",
        "          \\end{bmatrix}\n",
        "          \\end{pmatrix}=\n",
        "          \\begin{bmatrix}\n",
        "           3v_1 \\\\\n",
        "           0 \\\\\n",
        "           -2v_2\n",
        "          \\end{bmatrix}=\n",
        "          \\begin{bmatrix}\n",
        "           ? & ? \\\\\n",
        "           ? & ? \\\\\n",
        "           ? & ?\n",
        "          \\end{bmatrix}\n",
        "          \\begin{bmatrix}\n",
        "           v_1 \\\\\n",
        "           v_2\n",
        "          \\end{bmatrix}\n",
        "          $$\n",
        "\n",
        "To do that, write the transformation $L$ as $Av$ and then perform matrix multiplication:\n",
        "\n",
        "$$L\\begin{pmatrix}\n",
        "          \\begin{bmatrix}\n",
        "           v_1 \\\\           \n",
        "           v_2\n",
        "          \\end{bmatrix}\n",
        "          \\end{pmatrix}=\n",
        "          A\\begin{bmatrix}\n",
        "           v_1 \\\\           \n",
        "           v_2\n",
        "          \\end{bmatrix}=\n",
        "          \\begin{bmatrix}\n",
        "           a_{1,1} & a_{1,2} \\\\\n",
        "           a_{2,1} & a_{2,2} \\\\\n",
        "           a_{3,1} & a_{3,2}\n",
        "          \\end{bmatrix}\n",
        "          \\begin{bmatrix}\n",
        "           v_1 \\\\           \n",
        "           v_2\n",
        "          \\end{bmatrix}=\n",
        "          \\begin{bmatrix}\n",
        "           a_{1,1}v_1+a_{1,2}v_2 \\\\\n",
        "           a_{2,1}v_1+a_{2,2}v_2 \\\\\n",
        "           a_{3,1}v_1+a_{3,2}v_2 \\\\\n",
        "          \\end{bmatrix}=\n",
        "          \\begin{bmatrix}\n",
        "           3v_1 \\\\\n",
        "           0 \\\\\n",
        "           -2v_2\n",
        "          \\end{bmatrix}\n",
        "          $$"
      ]
    },
    {
      "cell_type": "code",
      "execution_count": 6,
      "metadata": {
        "colab": {
          "base_uri": "https://localhost:8080/"
        },
        "id": "ueGDrgFnHs-l",
        "outputId": "84587231-dcbd-449a-809f-4b0efb71ae40"
      },
      "outputs": [
        {
          "name": "stdout",
          "output_type": "stream",
          "text": [
            "Transformation matrix:\n",
            " [[ 3  0]\n",
            " [ 0  0]\n",
            " [ 0 -2]] \n",
            "\n",
            "Original vector:\n",
            " [[3]\n",
            " [5]] \n",
            "\n",
            " Result of the transformation:\n",
            " [[  9]\n",
            " [  0]\n",
            " [-10]]\n"
          ]
        }
      ],
      "source": [
        "def L(v):\n",
        "    A = np.array([[3,0], [0,0], [0,-2]])\n",
        "    print(\"Transformation matrix:\\n\", A, \"\\n\")\n",
        "    w = A @ v\n",
        "\n",
        "    return w\n",
        "\n",
        "v = np.array([[3], [5]])\n",
        "w = L(v)\n",
        "\n",
        "print(\"Original vector:\\n\", v, \"\\n\\n Result of the transformation:\\n\", w)"
      ]
    },
    {
      "cell_type": "markdown",
      "metadata": {
        "id": "bq5-a13nHs-l"
      },
      "source": [
        "Every linear transformation can be carried out by matrix multiplication. And vice versa, carrying out matrix multiplication, it is natural to consider the linear transformation that it represents. It means you can associate the matrix with the linear transformation in some way. This is a key connection between linear transformations and matrix algebra."
      ]
    },
    {
      "cell_type": "markdown",
      "metadata": {
        "id": "l7BO00lQHs-l"
      },
      "source": [
        "<a name='4'></a>\n",
        "## 4 - Standard Transformations in a Plane\n",
        "\n",
        "As discussed above in section 3, a linear transformation $L: \\mathbb{R}^2 \\rightarrow \\mathbb{R}^2$ can be represented as a multiplication of a $2 \\times 2$ matrix and a coordinate vector $v\\in\\mathbb{R}^2.$ Note that so far you have been using some random vector $v\\in\\mathbb{R}^2.$ (e.g. $v=\\begin{bmatrix}3 \\\\ 5\\end{bmatrix}$). To have a better intuition of what the transformation is really doing in the $\\mathbb{R}^2$ space, it is wise to choose vector $v$ in a less random way.\n",
        "\n",
        "A good choice would be vectors of a standard basis $e_1=\\begin{bmatrix}1 \\\\ 0\\end{bmatrix}$ and $e_2=\\begin{bmatrix}0 \\\\ 1\\end{bmatrix}$. Let's apply linear transformation $L$ to each of the vectors $e_1$ and $e_2$: $L(e_1)=Ae_1$ and $L(e_2)=Ae_2$. If you put vectors $\\{e_1, e_2\\}$ into columns of a matrix and perform matrix multiplication\n",
        "\n",
        "$$A\\begin{bmatrix}e_1 & e_2\\end{bmatrix}=\\begin{bmatrix}Ae_1 & Ae_2\\end{bmatrix}=\\begin{bmatrix}L(e_1) & L(e_2)\\end{bmatrix},\\tag{3}$$\n",
        "\n",
        "you can note that $\\begin{bmatrix}e_1 & e_2\\end{bmatrix}=\\begin{bmatrix}1 & 0 \\\\ 0 & 1\\end{bmatrix}$ (identity matrix). Thus, $A\\begin{bmatrix}e_1 & e_2\\end{bmatrix} = AI=A$, and\n",
        "\n",
        "$$A=\\begin{bmatrix}L(e_1) & L(e_2)\\end{bmatrix}.\\tag{4}$$\n",
        "\n",
        "This is a matrix with the columns that are the images of the vectors of the standard basis.\n",
        "\n",
        "This choice of vectors \\{$e_1, e_2$\\} provides opportinuty for the visual representation of the linear transformation $L$ (you will see the examples below)."
      ]
    },
    {
      "cell_type": "markdown",
      "metadata": {
        "id": "lK7fHKGpHs-l"
      },
      "source": [
        "<a name='4.1'></a>\n",
        "### 4.1 - Example 1: Horizontal Scaling (Dilation)"
      ]
    },
    {
      "cell_type": "markdown",
      "metadata": {
        "id": "TJB49yQWHs-l"
      },
      "source": [
        "Horizontal scaling (factor $2$ in this example) can be defined considering transformation of a vector $e_1=\\begin{bmatrix}1 \\\\ 0\\end{bmatrix}$ into a vector $\\begin{bmatrix}2 \\\\ 0\\end{bmatrix}$ and leaving vector $e_2=\\begin{bmatrix}0 \\\\ 1\\end{bmatrix}$ without any changes. The following function `T_hscaling()` corresponds to the horizontal scaling (factor $2$) of a vector. The second function `transform_vectors()` applies defined transformation to a set of vectors (here two vectors)."
      ]
    },
    {
      "cell_type": "code",
      "execution_count": 7,
      "metadata": {
        "colab": {
          "base_uri": "https://localhost:8080/"
        },
        "id": "QwRlylTaHs-l",
        "outputId": "0fcbd5ed-7767-43be-c6f5-626754a9f1dd"
      },
      "outputs": [
        {
          "name": "stdout",
          "output_type": "stream",
          "text": [
            "Original vectors:\n",
            " e1= \n",
            " [[1]\n",
            " [0]] \n",
            " e2=\n",
            " [[0]\n",
            " [1]] \n",
            "\n",
            " Result of the transformation (matrix form):\n",
            " [[2 0]\n",
            " [0 1]]\n"
          ]
        }
      ],
      "source": [
        "def T_hscaling(v):\n",
        "    A = np.array([[2,0], [0,1]])\n",
        "    w = A @ v\n",
        "\n",
        "    return w\n",
        "\n",
        "\n",
        "def transform_vectors(T, v1, v2):\n",
        "    V = np.hstack((v1.reshape(2,1), v2.reshape(2,1)))\n",
        "    W = T(V)\n",
        "\n",
        "    return W\n",
        "\n",
        "e1 = np.array([[1], [0]])\n",
        "e2 = np.array([[0], [1]])\n",
        "\n",
        "transformation_result_hscaling = transform_vectors(T_hscaling, e1, e2)\n",
        "\n",
        "print(\"Original vectors:\\n e1= \\n\", e1, \"\\n e2=\\n\", e2,\n",
        "      \"\\n\\n Result of the transformation (matrix form):\\n\", transformation_result_hscaling)"
      ]
    },
    {
      "cell_type": "markdown",
      "metadata": {
        "id": "glky6v4jHs-l"
      },
      "source": [
        "You can get a visual understanding of the transformation, producing a plot which displays input vectors, and their transformations."
      ]
    },
    {
      "cell_type": "code",
      "execution_count": 8,
      "metadata": {
        "colab": {
          "base_uri": "https://localhost:8080/",
          "height": 612
        },
        "id": "PJOSzEEOHs-m",
        "outputId": "864967f7-b648-48ca-c0f6-97c6943eac0d"
      },
      "outputs": [
        {
          "data": {
            "image/png": "[encoded data removed]",
            "text/plain": [
              "<Figure size 700x700 with 1 Axes>"
            ]
          },
          "metadata": {},
          "output_type": "display_data"
        }
      ],
      "source": [
        "import numpy as np\n",
        "import matplotlib.pyplot as plt\n",
        "\n",
        "def plot_transformation(T, e1, e2):\n",
        "    color_original = \"#129cab\"\n",
        "    color_transformed = \"#cc8933\"\n",
        "\n",
        "    # Ensure e1 and e2 are 1D arrays\n",
        "    e1 = np.array(e1).reshape(2,)\n",
        "    e2 = np.array(e2).reshape(2,)\n",
        "\n",
        "    _, ax = plt.subplots(figsize=(7, 7))\n",
        "    ax.tick_params(axis='x', labelsize=14)\n",
        "    ax.tick_params(axis='y', labelsize=14)\n",
        "    ax.set_xticks(np.arange(-5, 6))  # Adjusted for better axis ticks\n",
        "    ax.set_yticks(np.arange(-5, 6))\n",
        "\n",
        "    plt.axis([-5, 5, -5, 5])\n",
        "\n",
        "    # Original vectors\n",
        "    plt.quiver([0, 0], [0, 0], [e1[0], e2[0]], [e1[1], e2[1]], color=color_original, angles='xy', scale_units='xy', scale=1)\n",
        "    plt.plot([0, e2[0], e1[0], e1[0]], [0, e2[1], e2[1], e1[1]], color=color_original)\n",
        "\n",
        "    # Text labels for original vectors\n",
        "    e1_sgn = 0.4 * np.where(e1 == 0, 1, np.sign(e1))\n",
        "    e2_sgn = 0.4 * np.where(e2 == 0, 1, np.sign(e2))\n",
        "    ax.text(e1[0] - 0.2 + e1_sgn[0], e1[1] - 0.2 + e1_sgn[1], '$e_1$', fontsize=14, color=color_original)\n",
        "    ax.text(e2[0] - 0.2 + e2_sgn[0], e2[1] - 0.2 + e2_sgn[1], '$e_2$', fontsize=14, color=color_original)\n",
        "\n",
        "    # Apply transformation\n",
        "    e1_transformed = T(e1)\n",
        "    e2_transformed = T(e2)\n",
        "\n",
        "    # Ensure transformed vectors are also 1D\n",
        "    e1_transformed = np.array(e1_transformed).reshape(2,)\n",
        "    e2_transformed = np.array(e2_transformed).reshape(2,)\n",
        "\n",
        "    # Transformed vectors\n",
        "    plt.quiver([0, 0], [0, 0], [e1_transformed[0], e2_transformed[0]], [e1_transformed[1], e2_transformed[1]],\n",
        "               color=color_transformed, angles='xy', scale_units='xy', scale=1)\n",
        "    plt.plot([0, e2_transformed[0], e1_transformed[0] + e2_transformed[0], e1_transformed[0]],\n",
        "             [0, e2_transformed[1], e1_transformed[1] + e2_transformed[1], e1_transformed[1]],\n",
        "             color=color_transformed)\n",
        "\n",
        "    # Text labels for transformed vectors\n",
        "    e1_transformed_sgn = 0.4 * np.where(e1_transformed == 0, 1, np.sign(e1_transformed))\n",
        "    e2_transformed_sgn = 0.4 * np.where(e2_transformed == 0, 1, np.sign(e2_transformed))\n",
        "    ax.text(e1_transformed[0] - 0.2 + e1_transformed_sgn[0], e1_transformed[1] - e1_transformed_sgn[1],\n",
        "            '$T(e_1)$', fontsize=14, color=color_transformed)\n",
        "    ax.text(e2_transformed[0] - 0.2 + e2_transformed_sgn[0], e2_transformed[1] - e2_transformed_sgn[1],\n",
        "            '$T(e_2)$', fontsize=14, color=color_transformed)\n",
        "\n",
        "    plt.gca().set_aspect(\"equal\")\n",
        "    plt.show()\n",
        "\n",
        "# Define a sample transformation function\n",
        "def T_hscaling(v):\n",
        "    scaling_matrix = np.array([[2, 0], [0, 1]])  # Example: Horizontal scaling by 2\n",
        "    return scaling_matrix @ v\n",
        "\n",
        "# Define basis vectors\n",
        "e1 = np.array([[1], [0]])  # Column vector\n",
        "e2 = np.array([[0], [1]])  # Column vector\n",
        "\n",
        "# Call the function properly\n",
        "plot_transformation(T_hscaling, e1, e2)"
      ]
    },
    {
      "cell_type": "markdown",
      "metadata": {
        "id": "Y4HTy72UHs-m"
      },
      "source": [
        "You can observe that the polygon has been stretched in the horizontal direction as a result of the transformation."
      ]
    },
    {
      "cell_type": "markdown",
      "metadata": {
        "id": "yV2dj-slHs-m"
      },
      "source": [
        "<a name='4.2'></a>\n",
        "### 4.2 - Example 2: Reflection about y-axis (the vertical axis)"
      ]
    },
    {
      "cell_type": "markdown",
      "metadata": {
        "id": "fjJngaT_Hs-m"
      },
      "source": [
        "Function `T_reflection_yaxis()` defined below corresponds to the reflection about y-axis:"
      ]
    },
    {
      "cell_type": "code",
      "execution_count": 9,
      "metadata": {
        "colab": {
          "base_uri": "https://localhost:8080/"
        },
        "id": "ZVll6YDSHs-m",
        "outputId": "08f6ddb6-a53f-445f-96cd-38877527814a"
      },
      "outputs": [
        {
          "name": "stdout",
          "output_type": "stream",
          "text": [
            "Original vectors:\n",
            " e1= \n",
            " [[1]\n",
            " [0]] \n",
            " e2=\n",
            " [[0]\n",
            " [1]] \n",
            "\n",
            " Result of the transformation (matrix form):\n",
            " [[-1  0]\n",
            " [ 0  1]]\n"
          ]
        }
      ],
      "source": [
        "def T_reflection_yaxis(v):\n",
        "    A = np.array([[-1,0], [0,1]])\n",
        "    w = A @ v\n",
        "\n",
        "    return w\n",
        "\n",
        "e1 = np.array([[1], [0]])\n",
        "e2 = np.array([[0], [1]])\n",
        "\n",
        "transformation_result_reflection_yaxis = transform_vectors(T_reflection_yaxis, e1, e2)\n",
        "\n",
        "print(\"Original vectors:\\n e1= \\n\", e1,\"\\n e2=\\n\", e2,\n",
        "      \"\\n\\n Result of the transformation (matrix form):\\n\", transformation_result_reflection_yaxis)"
      ]
    },
    {
      "cell_type": "markdown",
      "metadata": {
        "id": "J_566YDhHs-m"
      },
      "source": [
        "You can visualize this transformation:"
      ]
    },
    {
      "cell_type": "code",
      "execution_count": 10,
      "metadata": {
        "colab": {
          "base_uri": "https://localhost:8080/",
          "height": 612
        },
        "id": "zK2YAzDCHs-m",
        "outputId": "5301a063-4978-4ef9-d1ac-c5e4eb9c7994"
      },
      "outputs": [
        {
          "data": {
            "image/png": "[encoded data removed]",
            "text/plain": [
              "<Figure size 700x700 with 1 Axes>"
            ]
          },
          "metadata": {},
          "output_type": "display_data"
        }
      ],
      "source": [
        "plot_transformation(T_reflection_yaxis, e1, e2)"
      ]
    }
  ],
  "metadata": {
    "accelerator": "GPU",
    "colab": {
      "include_colab_link": true,
      "provenance": [],
      "toc_visible": true
    },
    "coursera": {
      "schema_names": [
        "AI4MC1-1"
      ]
    },
    "grader_version": "1",
    "kernelspec": {
      "display_name": "base",
      "language": "python",
      "name": "python3"
    },
    "language_info": {
      "codemirror_mode": {
        "name": "ipython",
        "version": 3
      },
      "file_extension": ".py",
      "mimetype": "text/x-python",
      "name": "python",
      "nbconvert_exporter": "python",
      "pygments_lexer": "ipython3",
      "version": "3.12.8"
    },
    "toc": {
      "base_numbering": 1,
      "nav_menu": {},
      "number_sections": true,
      "sideBar": true,
      "skip_h1_title": false,
      "title_cell": "Table of Contents",
      "title_sidebar": "Contents",
      "toc_cell": false,
      "toc_position": {},
      "toc_section_display": true,
      "toc_window_display": false
    }
  },
  "nbformat": 4,
  "nbformat_minor": 0
}
