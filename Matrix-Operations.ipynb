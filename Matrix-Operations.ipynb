{
  "cells": [
    {
      "cell_type": "markdown",
      "id": "48446b1e",
      "metadata": {
        "id": "48446b1e"
      },
      "source": [
        "# Matrix Operations"
      ]
    },
    {
      "cell_type": "code",
      "execution_count": 1,
      "id": "b463e5b7",
      "metadata": {
        "id": "b463e5b7"
      },
      "outputs": [],
      "source": [
        "import numpy as np"
      ]
    },
    {
      "cell_type": "markdown",
      "id": "5f9be5bb",
      "metadata": {
        "id": "5f9be5bb"
      },
      "source": [
        "<a name='1'></a>\n",
        "## 1 - Matrix Multiplication\n",
        "\n",
        "If $A$ is an $m \\times n$ matrix and $B$ is an $n \\times p$ matrix, the matrix product $C = AB$ (denoted without multiplication signs or dots) is defined to be the $m \\times p$ matrix such that $c_{ij}=a_{i1}b_{1j}+a_{i2}b_{2j}+\\ldots+a_{in}b_{nj}=\\sum_{k=1}^{n} a_{ik}b_{kj},$ where $a_{ik}$ are the elements of matrix $A$, $b_{kj}$ are the elements of matrix $B$, and $i = 1, \\ldots, m$, $k=1, \\ldots, n$, $j = 1, \\ldots, p$. In other words, $c_{ij}$ is the dot product of the $i$-th row of $A$ and the $j$-th column of $B$."
      ]
    },
    {
      "cell_type": "markdown",
      "id": "ecd63af9",
      "metadata": {
        "id": "ecd63af9"
      },
      "source": [
        "<a name='2'></a>\n",
        "## 2 - Matrix Multiplication using Python\n",
        "\n",
        "Like with the dot product, there are a few ways to perform matrix multiplication in Python. As discussed previously, the calculations are more efficient in the vectorized form. Let's discuss the most commonly used functions in the vectorized form. First, define two matrices:"
      ]
    },
    {
      "cell_type": "code",
      "execution_count": 2,
      "id": "8b0f59f5",
      "metadata": {
        "id": "8b0f59f5"
      },
      "outputs": [
        {
          "name": "stdout",
          "output_type": "stream",
          "text": [
            "Matrix A (3 by 3):\n",
            " [[4 9 9]\n",
            " [9 1 6]\n",
            " [9 2 3]]\n",
            "Matrix B (3 by 2):\n",
            " [[2 2]\n",
            " [5 7]\n",
            " [4 4]]\n"
          ]
        }
      ],
      "source": [
        "A = np.array([[4, 9, 9], [9, 1, 6], [9, 2, 3]])\n",
        "print(\"Matrix A (3 by 3):\\n\", A)\n",
        "\n",
        "B = np.array([[2, 2], [5, 7], [4, 4]])\n",
        "print(\"Matrix B (3 by 2):\\n\", B)"
      ]
    },
    {
      "cell_type": "markdown",
      "id": "cdf047c9",
      "metadata": {
        "id": "cdf047c9"
      },
      "source": [
        "You can multiply matrices $A$ and $B$ using `NumPy` package function `np.matmul()`:"
      ]
    },
    {
      "cell_type": "code",
      "execution_count": 3,
      "id": "43452598",
      "metadata": {
        "id": "43452598"
      },
      "outputs": [
        {
          "data": {
            "text/plain": [
              "array([[ 89, 107],\n",
              "       [ 47,  49],\n",
              "       [ 40,  44]])"
            ]
          },
          "execution_count": 3,
          "metadata": {},
          "output_type": "execute_result"
        }
      ],
      "source": [
        "np.matmul(A, B)"
      ]
    },
    {
      "cell_type": "markdown",
      "id": "7be5d42a",
      "metadata": {
        "id": "7be5d42a"
      },
      "source": [
        "Which will output $3 \\times 2$ matrix as a `np.array`. Python operator `@` will also work here giving the same result:"
      ]
    },
    {
      "cell_type": "code",
      "execution_count": 4,
      "id": "bb36ba42",
      "metadata": {
        "id": "bb36ba42"
      },
      "outputs": [
        {
          "data": {
            "text/plain": [
              "array([[ 89, 107],\n",
              "       [ 47,  49],\n",
              "       [ 40,  44]])"
            ]
          },
          "execution_count": 4,
          "metadata": {},
          "output_type": "execute_result"
        }
      ],
      "source": [
        "A @ B"
      ]
    },
    {
      "cell_type": "markdown",
      "id": "0186638b",
      "metadata": {
        "id": "0186638b"
      },
      "source": [
        "<a name='3'></a>\n",
        "## 3 - Matrix Convention and Broadcasting\n",
        "\n",
        "Mathematically, matrix multiplication is defined only if number of the columns of matrix $A$ is equal to the number of the rows of matrix $B$. Thus, in the example above, changing the order of matrices when performing the multiplication $BA$ will not work as the above rule does not hold anymore."
      ]
    },
    {
      "cell_type": "code",
      "execution_count": 5,
      "id": "3ecc05e5",
      "metadata": {
        "id": "3ecc05e5"
      },
      "outputs": [
        {
          "name": "stdout",
          "output_type": "stream",
          "text": [
            "matmul: Input operand 1 has a mismatch in its core dimension 0, with gufunc signature (n?,k),(k,m?)->(n?,m?) (size 3 is different from 2)\n"
          ]
        }
      ],
      "source": [
        "try:\n",
        "    np.matmul(B, A)\n",
        "except ValueError as err:\n",
        "    print(err)"
      ]
    },
    {
      "cell_type": "code",
      "execution_count": 6,
      "id": "ea9c6d13",
      "metadata": {
        "id": "ea9c6d13"
      },
      "outputs": [
        {
          "name": "stdout",
          "output_type": "stream",
          "text": [
            "matmul: Input operand 1 has a mismatch in its core dimension 0, with gufunc signature (n?,k),(k,m?)->(n?,m?) (size 3 is different from 2)\n"
          ]
        }
      ],
      "source": [
        "try:\n",
        "    B @ A\n",
        "except ValueError as err:\n",
        "    print(err)"
      ]
    },
    {
      "cell_type": "markdown",
      "id": "05d9a674",
      "metadata": {
        "id": "05d9a674"
      },
      "source": [
        "So when using matrix multiplication you will need to be very careful about the dimensions - the number of the columns in the first matrix should match the number of the rows in the second matrix. This is very important for your future understanding of Neural Networks and how they work. However, for multiplication of the vectors, `NumPy` has a shortcut. You can define two vectors $x$ and $y$ of the same size (which one can understand as two $3 \\times 1$ matrices)."
      ]
    },
    {
      "cell_type": "code",
      "execution_count": 7,
      "id": "fab77ce6",
      "metadata": {
        "id": "fab77ce6"
      },
      "outputs": [
        {
          "name": "stdout",
          "output_type": "stream",
          "text": [
            "Shape of vector x: (3,)\n",
            "Number of dimensions of vector x: 1\n",
            "Shape of vector x, reshaped to a matrix: (3, 1)\n",
            "Number of dimensions of vector x, reshaped to a matrix: 2\n"
          ]
        }
      ],
      "source": [
        "x = np.array([1, -2, -5])\n",
        "y = np.array([4, 3, -1])\n",
        "\n",
        "print(\"Shape of vector x:\", x.shape)\n",
        "print(\"Number of dimensions of vector x:\", x.ndim)\n",
        "print(\"Shape of vector x, reshaped to a matrix:\", x.reshape((3, 1)).shape)\n",
        "print(\"Number of dimensions of vector x, reshaped to a matrix:\", x.reshape((3, 1)).ndim)"
      ]
    },
    {
      "cell_type": "markdown",
      "id": "5bd337df",
      "metadata": {
        "id": "5bd337df"
      },
      "source": [
        "Following the matrix convention, multiplication of matrices $3 \\times 1$ and $3 \\times 1$ is not defined. For matrix multiplication you would expect an error in the following cell, but let's check the output:"
      ]
    },
    {
      "cell_type": "code",
      "execution_count": 8,
      "id": "f655677c",
      "metadata": {
        "id": "f655677c"
      },
      "outputs": [
        {
          "data": {
            "text/plain": [
              "np.int64(3)"
            ]
          },
          "execution_count": 8,
          "metadata": {},
          "output_type": "execute_result"
        }
      ],
      "source": [
        "np.matmul(x,y)"
      ]
    },
    {
      "cell_type": "markdown",
      "id": "2fc01d74",
      "metadata": {
        "id": "2fc01d74"
      },
      "source": [
        "You can see that there is no error and that the result is actually a dot product $x \\cdot y\\,$! So, vector $x$ was automatically transposed into the vector $1 \\times 3$ and matrix multiplication $x^Ty$ was calculated. While this is very convenient, you need to keep in mind such functionality in Python and pay attention to not use it in a wrong way. The following cell will return an error:"
      ]
    },
    {
      "cell_type": "code",
      "execution_count": 9,
      "id": "d92006f1",
      "metadata": {
        "id": "d92006f1"
      },
      "outputs": [
        {
          "name": "stdout",
          "output_type": "stream",
          "text": [
            "matmul: Input operand 1 has a mismatch in its core dimension 0, with gufunc signature (n?,k),(k,m?)->(n?,m?) (size 3 is different from 1)\n"
          ]
        }
      ],
      "source": [
        "try:\n",
        "    np.matmul(x.reshape((3, 1)), y.reshape((3, 1)))\n",
        "except ValueError as err:\n",
        "    print(err)"
      ]
    },
    {
      "cell_type": "markdown",
      "id": "ace12c7d",
      "metadata": {
        "id": "ace12c7d"
      },
      "source": [
        "You might have a question in you mind: does `np.dot()` function also work for matrix multiplication?"
      ]
    },
    {
      "cell_type": "code",
      "execution_count": 10,
      "id": "f296e528",
      "metadata": {
        "id": "f296e528"
      },
      "outputs": [
        {
          "data": {
            "text/plain": [
              "array([[ 89, 107],\n",
              "       [ 47,  49],\n",
              "       [ 40,  44]])"
            ]
          },
          "execution_count": 10,
          "metadata": {},
          "output_type": "execute_result"
        }
      ],
      "source": [
        "np.dot(A, B)"
      ]
    },
    {
      "cell_type": "markdown",
      "id": "8dbbdc0f",
      "metadata": {
        "id": "8dbbdc0f"
      },
      "source": [
        "Yes, it works! What actually happens is what is called **broadcasting** in Python: `NumPy` broadcasts this dot product operation to all rows and all columns, you get the resultant product matrix. Broadcasting also works in other cases, for example:"
      ]
    },
    {
      "cell_type": "code",
      "execution_count": 11,
      "id": "68ded501",
      "metadata": {
        "id": "68ded501"
      },
      "outputs": [
        {
          "data": {
            "text/plain": [
              "array([[ 2,  7,  7],\n",
              "       [ 7, -1,  4],\n",
              "       [ 7,  0,  1]])"
            ]
          },
          "execution_count": 11,
          "metadata": {},
          "output_type": "execute_result"
        }
      ],
      "source": [
        "A - 2"
      ]
    },
    {
      "cell_type": "markdown",
      "id": "eec1d0d2",
      "metadata": {
        "id": "eec1d0d2"
      },
      "source": [
        "Mathematically, subtraction of the $3 \\times 3$ matrix $A$ and a scalar is not defined, but Python broadcasts the scalar, creating a $3 \\times 3$ `np.array` and performing subtraction element by element. A practical example of matrix multiplication can be seen in a linear regression model."
      ]
    }
  ],
  "metadata": {
    "colab": {
      "include_colab_link": true,
      "provenance": []
    },
    "kernelspec": {
      "display_name": "base",
      "language": "python",
      "name": "python3"
    },
    "language_info": {
      "codemirror_mode": {
        "name": "ipython",
        "version": 3
      },
      "file_extension": ".py",
      "mimetype": "text/x-python",
      "name": "python",
      "nbconvert_exporter": "python",
      "pygments_lexer": "ipython3",
      "version": "3.12.8"
    }
  },
  "nbformat": 4,
  "nbformat_minor": 5
}
