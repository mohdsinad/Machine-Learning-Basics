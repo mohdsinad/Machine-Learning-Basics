{
  "cells": [
    {
      "cell_type": "markdown",
      "metadata": {
        "id": "XX1iPyyStwZz"
      },
      "source": [
        "NumPy is the main package for scientific computing in Python. It performs a wide variety of advanced mathematical operations with high efficiency. In this notebook, you will learn several key NumPy functions such as creating arrays, slicing, indexing, reshaping and stacking."
      ]
    },
    {
      "cell_type": "markdown",
      "metadata": {},
      "source": [
        "# Basic NumPy Operations\n",
        "\n",
        "**1.1 - Packages** </br>\n",
        "\n",
        "Before you get started, you have to import NumPy to load its functions. As you may notice, even though there is no expected output, when you run this cell, the Jupyter Notebook imports the package (often referred to as the library) and its functions."
      ]
    },
    {
      "cell_type": "code",
      "execution_count": 1,
      "metadata": {
        "id": "RUJ4yE3GtwGk"
      },
      "outputs": [],
      "source": [
        "import numpy as np"
      ]
    },
    {
      "cell_type": "markdown",
      "metadata": {
        "id": "SJQ4HnBRt4Z1"
      },
      "source": [
        "**1.2 - Advantages of using NumPy arrays** </br>\n",
        "\n",
        "Arrays are one of the core data structures of the NumPy library, essential for organizing your data. You can think of them as a grid of values, all of the same type. If you have used Python lists before, you may remember that they are convenient, as you can store different data types. However, Python lists are limited in functions and take up more space and time to process than NumPy arrays.\n",
        "\n",
        "NumPy provides an array object that is much faster and more compact than Python lists. Through its extensive API integration, the library offers many built-in functions that make computing much easier with only a few lines of code. This can be a huge advantage when performing math operations on large datasets.\n",
        "\n",
        "The array object in NumPy is called ndarray meaning 'n-dimensional array'. To begin with, you will use one of the most common array types: the one-dimensional array ('1-D'). A 1-D array represents a standard list of values entirely in one dimension. Remember that in NumPy, all of the elements within the array are of the same type as compared to a list where elements need not be of similar type. "
      ]
    },
    {
      "cell_type": "code",
      "execution_count": 2,
      "metadata": {
        "colab": {
          "base_uri": "https://localhost:8080/"
        },
        "id": "vASLSN7GuYm3",
        "outputId": "7a0fc0d0-1799-4c26-add4-2fb3e86df889"
      },
      "outputs": [
        {
          "name": "stdout",
          "output_type": "stream",
          "text": [
            "[10 12]\n"
          ]
        }
      ],
      "source": [
        "one_dimensional_arr = np.array([10, 12])\n",
        "print(one_dimensional_arr)"
      ]
    },
    {
      "cell_type": "markdown",
      "metadata": {
        "id": "Ba_2RI-cueMl"
      },
      "source": [
        "**1.3 - How to create NumPy arrays** </br>\n",
        "\n",
        "You can create a 1-D array by simply using the function array() which takes in a list of values as an argument and returns a 1-D array."
      ]
    },
    {
      "cell_type": "code",
      "execution_count": 3,
      "metadata": {
        "colab": {
          "base_uri": "https://localhost:8080/"
        },
        "id": "k0st3T1auoq9",
        "outputId": "7e114de2-e73e-41be-ef22-6c4f7d420bd6"
      },
      "outputs": [
        {
          "name": "stdout",
          "output_type": "stream",
          "text": [
            "[1 2 3]\n"
          ]
        }
      ],
      "source": [
        "# Create and print a NumPy array 'a' containing the elements 1, 2, 3.\n",
        "a = np.array([1, 2, 3])\n",
        "print(a)"
      ]
    },
    {
      "cell_type": "markdown",
      "metadata": {
        "id": "HTRkHYxbuqzF"
      },
      "source": [
        "Another way to create an array is using np.arange(). This function will return an array of evenly spaced values within a given interval."
      ]
    },
    {
      "cell_type": "code",
      "execution_count": 4,
      "metadata": {
        "colab": {
          "base_uri": "https://localhost:8080/"
        },
        "id": "hCfIfi8Wus4J",
        "outputId": "02915408-ffa1-44aa-b1d6-d1d9b761677e"
      },
      "outputs": [
        {
          "name": "stdout",
          "output_type": "stream",
          "text": [
            "[0 1 2]\n"
          ]
        }
      ],
      "source": [
        "# Create an array with 3 integers, starting from the default integer 0.\n",
        "b = np.arange(3)\n",
        "print(b)"
      ]
    },
    {
      "cell_type": "code",
      "execution_count": 5,
      "metadata": {
        "colab": {
          "base_uri": "https://localhost:8080/"
        },
        "id": "TEIm_bgVuvN8",
        "outputId": "a4aab809-189a-4719-be2c-dff5b63403ed"
      },
      "outputs": [
        {
          "name": "stdout",
          "output_type": "stream",
          "text": [
            "[ 1  4  7 10 13 16 19]\n"
          ]
        }
      ],
      "source": [
        "# Create an array that starts from the integer 1, ends at 20, incremented by 3.\n",
        "c = np.arange(1, 20, 3)\n",
        "print(c)"
      ]
    },
    {
      "cell_type": "markdown",
      "metadata": {
        "id": "BWQDKl5HuxVx"
      },
      "source": [
        "What if you wanted to create an array with five evenly spaced values in the interval from 0 to 100? As you may notice, you have 3 parameters that a function must take. One paremeter is the starting number, in this case 0, the final number 100 and the number of elements in the array, in this case, 5. NumPy has a function that allows you to do specifically this by using np.linspace()."
      ]
    },
    {
      "cell_type": "code",
      "execution_count": 6,
      "metadata": {
        "colab": {
          "base_uri": "https://localhost:8080/"
        },
        "id": "WfZqdvzeu1R8",
        "outputId": "f152e0c5-5788-43a4-a651-fc576ec5fb09"
      },
      "outputs": [
        {
          "name": "stdout",
          "output_type": "stream",
          "text": [
            "[  0.  25.  50.  75. 100.]\n"
          ]
        }
      ],
      "source": [
        "lin_spaced_arr = np.linspace(0, 100, 5)\n",
        "print(lin_spaced_arr)"
      ]
    },
    {
      "cell_type": "markdown",
      "metadata": {
        "id": "LqTLut1Xu4RT"
      },
      "source": [
        "Did you notice that the output of the function is presented in the float value form (e.g. \"... 25. 50. ...\")? The reason is that the default type for values in the NumPy function np.linspace is a floating point (np.float64). You can easily specify your data type using dtype. If you access the built-in documentation of the functions, you may notice that most functions take in an optional parameter dtype. In addition to float, NumPy has several other data types such as int, and char.\n",
        "\n",
        "To change the type to integers, you need to set the dtype to int. You can do so, even in the previous functions. Feel free to try it out and modify the cells to output your desired data type."
      ]
    },
    {
      "cell_type": "code",
      "execution_count": 7,
      "metadata": {
        "colab": {
          "base_uri": "https://localhost:8080/"
        },
        "id": "U0PHNDxNu6gC",
        "outputId": "ea761551-6cfd-4620-e372-7b6811db78f2"
      },
      "outputs": [
        {
          "name": "stdout",
          "output_type": "stream",
          "text": [
            "[  0  25  50  75 100]\n"
          ]
        }
      ],
      "source": [
        "lin_spaced_arr_int = np.linspace(0, 100, 5, dtype=int)\n",
        "print(lin_spaced_arr_int)"
      ]
    },
    {
      "cell_type": "code",
      "execution_count": 8,
      "metadata": {
        "colab": {
          "base_uri": "https://localhost:8080/"
        },
        "id": "bx-Ubf8Bu8GH",
        "outputId": "6bff0a4f-93ba-4463-849b-11c31b986fa5"
      },
      "outputs": [
        {
          "name": "stdout",
          "output_type": "stream",
          "text": [
            "[ 1  4  7 10 13 16 19]\n"
          ]
        }
      ],
      "source": [
        "c_int = np.arange(1, 20, 3, dtype=int)\n",
        "print(c_int)"
      ]
    },
    {
      "cell_type": "code",
      "execution_count": 9,
      "metadata": {
        "colab": {
          "base_uri": "https://localhost:8080/"
        },
        "id": "Q0XaP25Ju9d2",
        "outputId": "b18d08d8-98a6-4c07-e22d-33421eea4d84"
      },
      "outputs": [
        {
          "name": "stdout",
          "output_type": "stream",
          "text": [
            "[0. 1. 2.]\n"
          ]
        }
      ],
      "source": [
        "b_float = np.arange(3, dtype=float)\n",
        "print(b_float)"
      ]
    },
    {
      "cell_type": "code",
      "execution_count": 10,
      "metadata": {
        "colab": {
          "base_uri": "https://localhost:8080/"
        },
        "id": "aFQab2a5u_k_",
        "outputId": "c4cdc905-1eef-4ecf-ec11-226e83b3fed9"
      },
      "outputs": [
        {
          "name": "stdout",
          "output_type": "stream",
          "text": [
            "['Welcome to Math for ML!']\n",
            "<U23\n"
          ]
        }
      ],
      "source": [
        "char_arr = np.array(['Welcome to Math for ML!'])\n",
        "print(char_arr)\n",
        "print(char_arr.dtype) # Prints the data type of the array"
      ]
    },
    {
      "cell_type": "markdown",
      "metadata": {
        "id": "4HV1utirvC50"
      },
      "source": [
        "Did you notice that the output of the data type of the char_arr array is <U23? This means that the string ('Welcome to Math for ML!') is a 23-character (23) unicode string (U) on a little-endian architecture (<)."
      ]
    },
    {
      "cell_type": "markdown",
      "metadata": {
        "id": "t_uAehv6vIHY"
      },
      "source": [
        "**1.4 - More on NumPy arrays** </br>\n",
        "\n",
        "One of the advantages of using NumPy is that you can easily create arrays with built-in functions such as:\n",
        "- np.ones() - Returns a new array setting values to one.\n",
        "- np.zeros() - Returns a new array setting values to zero.\n",
        "- np.empty() - Returns a new uninitialized array.\n",
        "- np.random.rand() - Returns a new array with values chosen at random."
      ]
    },
    {
      "cell_type": "code",
      "execution_count": 11,
      "metadata": {
        "colab": {
          "base_uri": "https://localhost:8080/"
        },
        "id": "m033NrOYvLVU",
        "outputId": "cc229d61-870b-482a-a90b-a029919ba4de"
      },
      "outputs": [
        {
          "name": "stdout",
          "output_type": "stream",
          "text": [
            "[1. 1. 1.]\n"
          ]
        }
      ],
      "source": [
        "# Return a new array of shape 3, filled with ones.\n",
        "ones_arr = np.ones(3)\n",
        "print(ones_arr)"
      ]
    },
    {
      "cell_type": "code",
      "execution_count": 12,
      "metadata": {
        "colab": {
          "base_uri": "https://localhost:8080/"
        },
        "id": "ZeJG6hzJvM5F",
        "outputId": "468baafd-a456-41ee-a5af-f3eb755f89df"
      },
      "outputs": [
        {
          "name": "stdout",
          "output_type": "stream",
          "text": [
            "[0. 0. 0.]\n"
          ]
        }
      ],
      "source": [
        "# Return a new array of shape 3, filled with zeroes.\n",
        "zeros_arr = np.zeros(3)\n",
        "print(zeros_arr)"
      ]
    },
    {
      "cell_type": "code",
      "execution_count": 13,
      "metadata": {
        "colab": {
          "base_uri": "https://localhost:8080/"
        },
        "id": "wmrOm2tXvOCi",
        "outputId": "5326a891-2ddd-480f-fffd-fc5c0d31da14"
      },
      "outputs": [
        {
          "name": "stdout",
          "output_type": "stream",
          "text": [
            "[0. 0. 0.]\n"
          ]
        }
      ],
      "source": [
        "# Return a new array of shape 3, without initializing entries.\n",
        "empt_arr = np.empty(3)\n",
        "print(empt_arr)"
      ]
    },
    {
      "cell_type": "code",
      "execution_count": 14,
      "metadata": {
        "colab": {
          "base_uri": "https://localhost:8080/"
        },
        "id": "OPCg1Dr5vPun",
        "outputId": "f83e6884-03ab-4e69-af40-9192a6a8a9c2"
      },
      "outputs": [
        {
          "name": "stdout",
          "output_type": "stream",
          "text": [
            "[0.12671529 0.07525391 0.30587267]\n"
          ]
        }
      ],
      "source": [
        "# Return a new array of shape 3 with random numbers between 0 and 1.\n",
        "rand_arr = np.random.rand(3)\n",
        "print(rand_arr)"
      ]
    },
    {
      "cell_type": "markdown",
      "metadata": {
        "id": "O0bnjie4xH4x"
      },
      "source": [
        "# Multidimensional Arrays\n",
        "With NumPy you can also create arrays with more than one dimension. In the above examples, you dealt with 1-D arrays, where you can access their elements using a single index. A multidimensional array has more than one column. Think of a multidimensional array as an excel sheet where each row/column represents a dimension."
      ]
    },
    {
      "cell_type": "markdown",
      "metadata": {
        "id": "sVxGcenDxT5S"
      },
      "source": [
        "![Screenshot 2025-03-21 at 6.24.43 PM.png](data:image/png;base64,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)"
      ]
    },
    {
      "cell_type": "code",
      "execution_count": 15,
      "metadata": {
        "id": "ZspkMfZkxaU8"
      },
      "outputs": [
        {
          "name": "stdout",
          "output_type": "stream",
          "text": [
            "[[1 2 3]\n",
            " [4 5 6]]\n"
          ]
        }
      ],
      "source": [
        "# Create a 2 dimensional array (2-D)\n",
        "two_dim_arr = np.array([[1,2,3], [4,5,6]])\n",
        "print(two_dim_arr)"
      ]
    },
    {
      "cell_type": "markdown",
      "metadata": {
        "id": "Gl0LFBDKxbvs"
      },
      "source": [
        "An alternative way to create a multidimensional array is by reshaping the initial 1-D array. Using np.reshape() you can rearrange elements of the previous array into a new shape."
      ]
    },
    {
      "cell_type": "code",
      "execution_count": 16,
      "metadata": {
        "id": "0K_3ly58xeTk"
      },
      "outputs": [
        {
          "name": "stdout",
          "output_type": "stream",
          "text": [
            "[[1 2 3]\n",
            " [4 5 6]]\n"
          ]
        }
      ],
      "source": [
        "# 1-D array\n",
        "one_dim_arr = np.array([1, 2, 3, 4, 5, 6])\n",
        "\n",
        "# Multidimensional array using reshape()\n",
        "multi_dim_arr = np.reshape(\n",
        "                one_dim_arr, # the array to be reshaped\n",
        "               (2,3) # dimensions of the new array\n",
        "              )\n",
        "# Print the new 2-D array with two rows and three columns\n",
        "print(multi_dim_arr)"
      ]
    },
    {
      "cell_type": "markdown",
      "metadata": {
        "id": "wYggEjCnxhJe"
      },
      "source": [
        "**Finding size, shape and dimension** </br>\n",
        "\n",
        "These are all atrributes of a ndarray and can be accessed as follows:\n",
        "- ndarray.ndim - Stores the number dimensions of the array.\n",
        "- ndarray.shape - Stores the shape of the array. Each number in the tuple denotes the lengths of each corresponding dimension.\n",
        "- ndarray.size - Stores the number of elements in the array."
      ]
    },
    {
      "cell_type": "code",
      "execution_count": 17,
      "metadata": {
        "id": "bd96FdK3xi3o"
      },
      "outputs": [
        {
          "data": {
            "text/plain": [
              "2"
            ]
          },
          "execution_count": 17,
          "metadata": {},
          "output_type": "execute_result"
        }
      ],
      "source": [
        "# Dimension of the 2-D array multi_dim_arr\n",
        "multi_dim_arr.ndim"
      ]
    },
    {
      "cell_type": "code",
      "execution_count": 18,
      "metadata": {
        "id": "a4CgShb3xkSu"
      },
      "outputs": [
        {
          "data": {
            "text/plain": [
              "(2, 3)"
            ]
          },
          "execution_count": 18,
          "metadata": {},
          "output_type": "execute_result"
        }
      ],
      "source": [
        "# Shape of the 2-D array multi_dim_arr\n",
        "# Returns shape of 2 rows and 3 columns\n",
        "multi_dim_arr.shape"
      ]
    },
    {
      "cell_type": "code",
      "execution_count": 19,
      "metadata": {
        "id": "h1NmGyWnxleg"
      },
      "outputs": [
        {
          "data": {
            "text/plain": [
              "6"
            ]
          },
          "execution_count": 19,
          "metadata": {},
          "output_type": "execute_result"
        }
      ],
      "source": [
        "# Size of the array multi_dim_arr\n",
        "# Returns total number of elements\n",
        "multi_dim_arr.size"
      ]
    },
    {
      "cell_type": "markdown",
      "metadata": {
        "id": "mzb1Ldv4xo68"
      },
      "source": [
        "# Array math operations\n"
      ]
    },
    {
      "cell_type": "markdown",
      "metadata": {
        "id": "_pNFCss0xsfu"
      },
      "source": [
        "In this section, you will see that NumPy allows you to quickly perform elementwise addition, substraction, multiplication and division for both 1-D and multidimensional arrays. The operations are performed using the math symbol for each '+', '-' and '*'. Recall that addition of Python lists works completely differently as it would append the lists, thus making a longer list, in addition, subtraction and multiplication of Python lists do not work."
      ]
    },
    {
      "cell_type": "code",
      "execution_count": 20,
      "metadata": {
        "id": "4TSJy18RxufT"
      },
      "outputs": [
        {
          "name": "stdout",
          "output_type": "stream",
          "text": [
            "[ 3  7 11]\n",
            "[1 1 1]\n",
            "[ 2 12 30]\n"
          ]
        }
      ],
      "source": [
        "arr_1 = np.array([2, 4, 6])\n",
        "arr_2 = np.array([1, 3, 5])\n",
        "\n",
        "# Adding two 1-D arrays\n",
        "addition = arr_1 + arr_2\n",
        "print(addition)\n",
        "\n",
        "# Subtracting two 1-D arrays\n",
        "subtraction = arr_1 - arr_2\n",
        "print(subtraction)\n",
        "\n",
        "# Multiplying two 1-D arrays elementwise\n",
        "multiplication = arr_1 * arr_2\n",
        "print(multiplication)"
      ]
    },
    {
      "cell_type": "markdown",
      "metadata": {
        "id": "iA8PeKvpxw4t"
      },
      "source": [
        "**Multiplying vector with a scalar (broadcasting)** </br>\n",
        "\n",
        "Suppose you need to convert miles to kilometers. You can do this by carrying out an operation between an array (miles) and a single number (the conversion rate which is a scalar). Since, 1 mile = 1.6 km, NumPy computes each multiplication within each cell.\n",
        "\n",
        "This concept is called broadcasting, which allows you to perform operations specifically on arrays of different shapes."
      ]
    },
    {
      "cell_type": "code",
      "execution_count": 21,
      "metadata": {
        "id": "tac10Iypxy92"
      },
      "outputs": [
        {
          "data": {
            "text/plain": [
              "array([1.6, 3.2])"
            ]
          },
          "execution_count": 21,
          "metadata": {},
          "output_type": "execute_result"
        }
      ],
      "source": [
        "vector = np.array([1, 2])\n",
        "vector * 1.6"
      ]
    },
    {
      "cell_type": "markdown",
      "metadata": {
        "id": "LkBTYDIAx1Ze"
      },
      "source": [
        "![Screenshot 2025-03-21 at 6.27.04 PM.png](data:image/png;base64,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)"
      ]
    },
    {
      "cell_type": "markdown",
      "metadata": {
        "id": "g7AFU5Frx7GN"
      },
      "source": [
        "# Indexing and slicing"
      ]
    },
    {
      "cell_type": "markdown",
      "metadata": {
        "id": "mb3CCPtsx96R"
      },
      "source": [
        "Indexing is very useful as it allows you to select specific elements from an array. It also lets you select entire rows/columns or planes as you'll see in future assignments for multidimensional arrays.\n",
        "\n",
        "**Indexing** : Lets us select specific elements from the arrays as given."
      ]
    },
    {
      "cell_type": "code",
      "execution_count": 22,
      "metadata": {
        "id": "HQU0hkgDyCqg"
      },
      "outputs": [
        {
          "name": "stdout",
          "output_type": "stream",
          "text": [
            "3\n",
            "1\n"
          ]
        }
      ],
      "source": [
        "# Select the third element of the array. Remember the counting starts from 0.\n",
        "a = ([1, 2, 3, 4, 5])\n",
        "print(a[2])\n",
        "\n",
        "# Select the first element of the array.\n",
        "print(a[0])"
      ]
    },
    {
      "cell_type": "markdown",
      "metadata": {
        "id": "1aqGkHiNyFoj"
      },
      "source": [
        "For multidimensional arrays of shape n, to index a specific element, you must input n indices, one for each dimension."
      ]
    },
    {
      "cell_type": "code",
      "execution_count": 23,
      "metadata": {
        "id": "wOxTWcl4yHcd"
      },
      "outputs": [
        {
          "name": "stdout",
          "output_type": "stream",
          "text": [
            "8\n"
          ]
        }
      ],
      "source": [
        "# Indexing on a 2-D array\n",
        "two_dim = np.array(([1, 2, 3],\n",
        "          [4, 5, 6],\n",
        "          [7, 8, 9]))\n",
        "\n",
        "# Select element number 8 from the 2-D array using indices i, j.\n",
        "print(two_dim[2][1])"
      ]
    },
    {
      "cell_type": "markdown",
      "metadata": {
        "id": "glMqlqmmyiij"
      },
      "source": [
        "**Slicing** : Slicing gives you a sublist of elements that you specify from the array. The slice notation specifies a start and end value, and copies the list from start up to but not including the end (end-exclusive).\n",
        "\n",
        "The syntax is:\n",
        "\n",
        "```array[start:end:step]```\n",
        "\n",
        "If no value is passed to start, it is assumed start = 0, if no value is passed to end, it is assumed that end = length of array - 1 and if no value is passed to step, it is assumed step = 1."
      ]
    },
    {
      "cell_type": "code",
      "execution_count": 24,
      "metadata": {
        "id": "paXHfaaIylEl"
      },
      "outputs": [
        {
          "name": "stdout",
          "output_type": "stream",
          "text": [
            "[2, 3, 4]\n"
          ]
        }
      ],
      "source": [
        "# Slice the array a to get the array [2,3,4]\n",
        "sliced_arr = a[1:4]\n",
        "print(sliced_arr)"
      ]
    },
    {
      "cell_type": "code",
      "execution_count": 25,
      "metadata": {
        "id": "_jfkH3ZUymms"
      },
      "outputs": [
        {
          "name": "stdout",
          "output_type": "stream",
          "text": [
            "[1, 2, 3]\n"
          ]
        }
      ],
      "source": [
        "# Slice the array a to get the array [1,2,3]\n",
        "sliced_arr = a[:3]\n",
        "print(sliced_arr)"
      ]
    },
    {
      "cell_type": "code",
      "execution_count": 26,
      "metadata": {
        "id": "gMtocTpfyn4y"
      },
      "outputs": [
        {
          "name": "stdout",
          "output_type": "stream",
          "text": [
            "[3, 4, 5]\n"
          ]
        }
      ],
      "source": [
        "# Slice the array a to get the array [3,4,5]\n",
        "sliced_arr = a[2:]\n",
        "print(sliced_arr)"
      ]
    },
    {
      "cell_type": "code",
      "execution_count": 27,
      "metadata": {
        "id": "Vaoxs3Q0ypQX"
      },
      "outputs": [
        {
          "name": "stdout",
          "output_type": "stream",
          "text": [
            "[1, 3, 5]\n"
          ]
        }
      ],
      "source": [
        "# Slice the array a to get the array [1,3,5]\n",
        "sliced_arr = a[::2]\n",
        "print(sliced_arr)"
      ]
    },
    {
      "cell_type": "code",
      "execution_count": 28,
      "metadata": {
        "id": "YNvaq68ryqjF"
      },
      "outputs": [
        {
          "name": "stdout",
          "output_type": "stream",
          "text": [
            "True\n"
          ]
        }
      ],
      "source": [
        "# Note that a == a[:] == a[::]\n",
        "print(a == a[:] == a[::])"
      ]
    },
    {
      "cell_type": "code",
      "execution_count": 29,
      "metadata": {
        "id": "YEhuGdcHyrtf"
      },
      "outputs": [
        {
          "data": {
            "text/plain": [
              "array([[1, 2, 3],\n",
              "       [4, 5, 6]])"
            ]
          },
          "execution_count": 29,
          "metadata": {},
          "output_type": "execute_result"
        }
      ],
      "source": [
        "# Slice the two_dim array to get the first two rows\n",
        "sliced_arr_1 = two_dim[0:2]\n",
        "sliced_arr_1"
      ]
    },
    {
      "cell_type": "code",
      "execution_count": 30,
      "metadata": {
        "id": "gYgIapRrys5S"
      },
      "outputs": [
        {
          "name": "stdout",
          "output_type": "stream",
          "text": [
            "[[4 5 6]\n",
            " [7 8 9]]\n"
          ]
        }
      ],
      "source": [
        "# Similarily, slice the two_dim array to get the last two rows\n",
        "sliced_two_dim_rows = two_dim[1:3]\n",
        "print(sliced_two_dim_rows)"
      ]
    },
    {
      "cell_type": "code",
      "execution_count": 31,
      "metadata": {
        "id": "mPFM4D9eyuKS"
      },
      "outputs": [
        {
          "name": "stdout",
          "output_type": "stream",
          "text": [
            "[2 5 8]\n"
          ]
        }
      ],
      "source": [
        "sliced_two_dim_cols = two_dim[:,1]\n",
        "print(sliced_two_dim_cols)"
      ]
    },
    {
      "cell_type": "markdown",
      "metadata": {
        "id": "Do2KFo2T49Hb"
      },
      "source": [
        "**Stacking**: Stacking is a feature of NumPy that leads to increased customization of arrays. It means to join two or more arrays, either horizontally or vertically, meaning that it is done along a new axis.\n",
        "- np.vstack() - stacks vertically\n",
        "- np.hstack() - stacks horizontally\n",
        "- np.hsplit() - splits an array into several smaller arrays"
      ]
    },
    {
      "cell_type": "code",
      "execution_count": 32,
      "metadata": {
        "id": "YX27NYDn5BN4"
      },
      "outputs": [
        {
          "name": "stdout",
          "output_type": "stream",
          "text": [
            "a1:\n",
            "[[1 1]\n",
            " [2 2]]\n",
            "a2:\n",
            "[[3 3]\n",
            " [4 4]]\n"
          ]
        }
      ],
      "source": [
        "a1 = np.array([[1,1],\n",
        "               [2,2]])\n",
        "a2 = np.array([[3,3],\n",
        "              [4,4]])\n",
        "print(f'a1:\\n{a1}')\n",
        "print(f'a2:\\n{a2}')"
      ]
    },
    {
      "cell_type": "code",
      "execution_count": 33,
      "metadata": {
        "id": "9F9-lefW5DBF"
      },
      "outputs": [
        {
          "name": "stdout",
          "output_type": "stream",
          "text": [
            "[[1 1]\n",
            " [2 2]\n",
            " [3 3]\n",
            " [4 4]]\n"
          ]
        }
      ],
      "source": [
        "# Stack the arrays vertically\n",
        "vert_stack = np.vstack((a1, a2))\n",
        "print(vert_stack)"
      ]
    },
    {
      "cell_type": "code",
      "execution_count": 34,
      "metadata": {
        "id": "ra8zDg0-5Emq"
      },
      "outputs": [
        {
          "name": "stdout",
          "output_type": "stream",
          "text": [
            "[[1 1 3 3]\n",
            " [2 2 4 4]]\n"
          ]
        }
      ],
      "source": [
        "# Stack the arrays horizontally\n",
        "horz_stack = np.hstack((a1, a2))\n",
        "print(horz_stack)"
      ]
    },
    {
      "cell_type": "code",
      "execution_count": 35,
      "metadata": {
        "id": "gJ_SLxHh4L44"
      },
      "outputs": [
        {
          "name": "stdout",
          "output_type": "stream",
          "text": [
            "Vertically stacked array:\n",
            "[[1 2]\n",
            " [3 4]\n",
            " [5 6]\n",
            " [7 8]]\n"
          ]
        },
        {
          "data": {
            "image/png": "[encoded data removed]",
            "text/plain": [
              "<Figure size 600x400 with 2 Axes>"
            ]
          },
          "metadata": {},
          "output_type": "display_data"
        },
        {
          "name": "stdout",
          "output_type": "stream",
          "text": [
            "Horizontally stacked array:\n",
            "[[ 9 10 13 14]\n",
            " [11 12 15 16]]\n"
          ]
        },
        {
          "data": {
            "image/png": "[encoded data removed]",
            "text/plain": [
              "<Figure size 600x400 with 2 Axes>"
            ]
          },
          "metadata": {},
          "output_type": "display_data"
        },
        {
          "name": "stdout",
          "output_type": "stream",
          "text": [
            "Sliced 3D array:\n",
            "[[[1 2]\n",
            "  [3 4]]\n",
            "\n",
            " [[5 6]\n",
            "  [7 8]]]\n",
            "Sliced rows:\n",
            "[[4 5 6]\n",
            " [7 8 9]]\n"
          ]
        },
        {
          "data": {
            "image/png": "[encoded data removed]",
            "text/plain": [
              "<Figure size 600x400 with 2 Axes>"
            ]
          },
          "metadata": {},
          "output_type": "display_data"
        },
        {
          "name": "stdout",
          "output_type": "stream",
          "text": [
            "Sliced columns:\n",
            "[[1 2]\n",
            " [4 5]\n",
            " [7 8]]\n"
          ]
        },
        {
          "data": {
            "image/png": "[encoded data removed]",
            "text/plain": [
              "<Figure size 600x400 with 2 Axes>"
            ]
          },
          "metadata": {},
          "output_type": "display_data"
        }
      ],
      "source": [
        "#Visual Representation of stacking and slicing\n",
        "\n",
        "import numpy as np\n",
        "import matplotlib.pyplot as plt\n",
        "\n",
        "# Example 1: Stacking arrays vertically\n",
        "arr1 = np.array([[1, 2], [3, 4]])\n",
        "arr2 = np.array([[5, 6], [7, 8]])\n",
        "\n",
        "# Stacking vertically using vstack\n",
        "stacked_arr = np.vstack((arr1, arr2))\n",
        "print(\"Vertically stacked array:\")\n",
        "print(stacked_arr)\n",
        "\n",
        "# Visualization\n",
        "plt.figure(figsize=(6, 4))\n",
        "plt.imshow(stacked_arr, cmap='viridis', interpolation='nearest')\n",
        "plt.title(\"Vertical Stacking\")\n",
        "plt.colorbar()\n",
        "plt.show()\n",
        "\n",
        "# Example 2: Stacking arrays horizontally\n",
        "arr3 = np.array([[9, 10], [11, 12]])\n",
        "arr4 = np.array([[13, 14], [15, 16]])\n",
        "\n",
        "# Stacking horizontally using hstack\n",
        "stacked_arr_h = np.hstack((arr3, arr4))\n",
        "print(\"Horizontally stacked array:\")\n",
        "print(stacked_arr_h)\n",
        "\n",
        "# Visualization\n",
        "plt.figure(figsize=(6, 4))\n",
        "plt.imshow(stacked_arr_h, cmap='viridis', interpolation='nearest')\n",
        "plt.title(\"Horizontal Stacking\")\n",
        "plt.colorbar()\n",
        "plt.show()\n",
        "\n",
        "\n",
        "# Example 3: Slicing a 3D array\n",
        "arr_3d = np.array([[[1, 2], [3, 4]], [[5, 6], [7, 8]], [[9, 10], [11, 12]]])\n",
        "\n",
        "# Slicing the first two layers along the depth axis\n",
        "sliced_arr_3d = arr_3d[:2]\n",
        "print(\"Sliced 3D array:\")\n",
        "print(sliced_arr_3d)\n",
        "\n",
        "# Visualization (requires a 3D plotting library)\n",
        "# ... (Code for 3D visualization would be more complex and might require libraries like Mayavi or Plotly)\n",
        "\n",
        "\n",
        "# Example 4: Slicing a 2D array\n",
        "arr_2d = np.array([[1, 2, 3], [4, 5, 6], [7, 8, 9]])\n",
        "\n",
        "# Slicing rows 1 and 2\n",
        "sliced_arr_rows = arr_2d[1:3, :]\n",
        "print(\"Sliced rows:\")\n",
        "print(sliced_arr_rows)\n",
        "\n",
        "\n",
        "# Visualization\n",
        "plt.figure(figsize=(6, 4))\n",
        "plt.imshow(sliced_arr_rows, cmap='viridis', interpolation='nearest')\n",
        "plt.title(\"Slicing Rows\")\n",
        "plt.colorbar()\n",
        "plt.show()\n",
        "\n",
        "\n",
        "# Slicing columns 0 and 1\n",
        "sliced_arr_cols = arr_2d[:, 0:2]\n",
        "print(\"Sliced columns:\")\n",
        "print(sliced_arr_cols)\n",
        "\n",
        "\n",
        "# Visualization\n",
        "plt.figure(figsize=(6, 4))\n",
        "plt.imshow(sliced_arr_cols, cmap='viridis', interpolation='nearest')\n",
        "plt.title(\"Slicing Columns\")\n",
        "plt.colorbar()\n",
        "plt.show()"
      ]
    },
    {
      "cell_type": "markdown",
      "metadata": {
        "id": "K3suk-P09m9X"
      },
      "source": [
        "# Arrays and Linear systems"
      ]
    },
    {
      "cell_type": "markdown",
      "metadata": {
        "id": "DH9juO9m9roa"
      },
      "source": [
        "The **array mechanism** is a structured approach to solving linear systems efficiently, often leveraging parallelism and optimized memory usage. Depending on the context, this can refer to:\n",
        "\n",
        "1. **Using Arrays in Programming for Linear Systems**\n",
        "\n",
        "In computational programming (Python, MATLAB, C++, etc.), linear systems are represented as matrices (2D arrays), and various algorithms are used to solve them:\n",
        "- Gaussian Elimination: Uses row operations to transform the system into an upper triangular form.\n",
        "- LU Decomposition: Breaks a matrix into lower and upper triangular matrices for efficient solving.\n",
        "- Matrix Inversion: If A is invertible, solve Ax = b using x = A^{-1}b.\n",
        "- Iterative Methods (for large systems): Jacobi, Gauss-Seidel, or Conjugate Gradient methods.\n",
        "\n",
        "2. **Parallel Computing with Array Mechanisms**\n",
        "\n",
        "In parallel computing, arrays are distributed across multiple processors:\n",
        "- SIMD (Single Instruction Multiple Data): Performs the same operation on multiple data points simultaneously (e.g., GPU computing with CUDA).\n",
        "- MPI (Message Passing Interface): Distributes array segments across nodes in a cluster.\n",
        "- Shared Memory Arrays (OpenMP): Uses threads to process array segments in parallel.\n",
        "\n",
        "**Linear Systems in the Practical World**\n",
        "\n",
        "A linear system consists of multiple linear equations that describe relationships between variables. In the real world, these systems are used to model and solve practical problems across various domains."
      ]
    },
    {
      "cell_type": "markdown",
      "metadata": {
        "id": "_24fMFny-d8_"
      },
      "source": [
        "# Representing and Solving System of Linear Equations using Matrices"
      ]
    },
    {
      "cell_type": "markdown",
      "metadata": {
        "id": "fA7IoIBy-hcq"
      },
      "source": [
        "**System of Linear Equations** : A system of linear equations (or linear system) is a collection of one or more linear equations involving the same variables."
      ]
    },
    {
      "cell_type": "markdown",
      "metadata": {
        "id": "iiULe5oy-oKt"
      },
      "source": [
        "For example:\n",
        "\n",
        "$$\\begin{cases}\n",
        "-x_1+3x_2=7, \\\\ 3x_1+2x_2=1, \\end{cases}$$\n",
        "\n",
        "is a system of two equations with two unknown variables. **To solve** a system of linear equations means to find such values of the variables that all of its equations are simultaneously satisfied.\n",
        "\n",
        "A linear system is **inconsistent** if it has no solution, and otherwise it is said to be **consistent**. Consistent system can have one or infinite number of solutions.\n",
        "\n",
        "**Solving Systems of Linear Equations using Matrices** </br>\n",
        "\n",
        "Linear systems with two equations are easy to solve manually, but preparing for more complicated cases, you will investigate some solution techniques.\n",
        "\n",
        "NumPy linear algebra package provides quick and reliable way to solve the system of linear equations using function np.linalg.solve(A, b). Here A is a matrix, each row of which represents one equation in the system and each column corresponds to the variable and b is a 1-D array of the free (right side) coefficients. Given the system of linear equations , you can set matrix \"**A**\" and 1-D array \"**b**\" as:"
      ]
    },
    {
      "cell_type": "code",
      "execution_count": 36,
      "metadata": {
        "id": "CwhbY4-6-_57"
      },
      "outputs": [
        {
          "name": "stdout",
          "output_type": "stream",
          "text": [
            "Matrix A:\n",
            "[[-1.  3.]\n",
            " [ 3.  2.]]\n",
            "\n",
            "Array b:\n",
            "[7. 1.]\n"
          ]
        }
      ],
      "source": [
        "A = np.array([\n",
        "        [-1, 3],\n",
        "        [3, 2]\n",
        "    ], dtype=np.dtype(float))\n",
        "\n",
        "b = np.array([7, 1], dtype=np.dtype(float))\n",
        "\n",
        "print(\"Matrix A:\")\n",
        "print(A)\n",
        "print(\"\\nArray b:\")\n",
        "print(b)"
      ]
    },
    {
      "cell_type": "markdown",
      "metadata": {
        "id": "_KLjaOQu_B5G"
      },
      "source": [
        "Check the dimensions of **A**\n",
        " and **b**\n",
        " using the shape attribute (you can also use np.shape() as an alternative):"
      ]
    },
    {
      "cell_type": "code",
      "execution_count": 37,
      "metadata": {
        "id": "y6S-GTXP_Hfq"
      },
      "outputs": [
        {
          "name": "stdout",
          "output_type": "stream",
          "text": [
            "Shape of A: (2, 2)\n",
            "Shape of b: (2,)\n"
          ]
        }
      ],
      "source": [
        "print(f\"Shape of A: {A.shape}\")\n",
        "print(f\"Shape of b: {b.shape}\")\n",
        "\n",
        "# print(f\"Shape of A: {np.shape(A)}\")\n",
        "# print(f\"Shape of A: {np.shape(b)}\")"
      ]
    },
    {
      "cell_type": "markdown",
      "metadata": {
        "id": "dcvoeYuy_Lsq"
      },
      "source": [
        "Now simply use np.linalg.solve(A, b) function to find the solution of the system (equation mentioned above)\n",
        ". The result will be saved in the 1-D array\n",
        ". The elements will correspond to the values of\n",
        " x1 and x2\n",
        ":"
      ]
    },
    {
      "cell_type": "code",
      "execution_count": 38,
      "metadata": {
        "id": "YpyVZwbp_Tis"
      },
      "outputs": [
        {
          "name": "stdout",
          "output_type": "stream",
          "text": [
            "Solution: [-1.  2.]\n"
          ]
        }
      ],
      "source": [
        "x = np.linalg.solve(A, b)\n",
        "\n",
        "print(f\"Solution: {x}\")"
      ]
    },
    {
      "cell_type": "markdown",
      "metadata": {
        "id": "dMwU5joS_bQS"
      },
      "source": [
        "**Evaluating Determinant of a Matrix**\n",
        "\n",
        "Matrix **A** corresponding to the linear system ***(Eq)*** is a square matrix - it has the same number of rows and columns. In case of a square matrix it is possible to calculate its determinant - a real number which characterizes some properties of the matrix. Linear system containing two (or more) equations with the same number of unknown variables will have one solution if and only if **A** matrix\n",
        "has non-zero determinant.\n",
        "\n",
        "Let's calculate the determinant using NumPy linear algebra package. You can do it with the np.linalg.det(A) function."
      ]
    },
    {
      "cell_type": "code",
      "execution_count": 39,
      "metadata": {
        "id": "5lcVCMVv_qUF"
      },
      "outputs": [
        {
          "name": "stdout",
          "output_type": "stream",
          "text": [
            "Determinant of matrix A: -11.00\n"
          ]
        }
      ],
      "source": [
        "d = np.linalg.det(A)\n",
        "\n",
        "print(f\"Determinant of matrix A: {d:.2f}\")"
      ]
    },
    {
      "cell_type": "markdown",
      "metadata": {
        "id": "ypcSnWUN_ti1"
      },
      "source": [
        "Note that its value is non-zero, as expected for a system with exactly one solution."
      ]
    },
    {
      "cell_type": "markdown",
      "metadata": {
        "id": "UpTF5O2H_wQm"
      },
      "source": [
        "# Solving System of Linear Equations using Elimination Method"
      ]
    },
    {
      "cell_type": "markdown",
      "metadata": {
        "id": "XsqgxEAZBEHt"
      },
      "source": [
        "You can see how easy it is to use contemporary packages to solve linear equations. However, for deeper understanding of mathematical concepts, it is important to practice some solution techniques manually. Programming approach can still help here to reduce the amount of arithmetical calculations, and focus on the method itself."
      ]
    },
    {
      "cell_type": "markdown",
      "metadata": {
        "id": "N-L0a3YQBFzi"
      },
      "source": [
        "**Elimination Method**\n",
        "\n",
        "In the **elimination method** you either add or subtract the equations of the linear system to get an equation with smaller number of variables. If needed, you can also multiply whole equation by non-zero number.\n",
        "\n",
        "Take a look at the system $(1)$ again:\n",
        "\n",
        "$$\\begin{cases}\n",
        "-x_1+3x_2=7, \\\\ 3x_1+2x_2=1, \\end{cases}$$\n",
        "\n",
        "Multiply first equation by 3, add it to the second equation and exchange the second equation with the result of this addition:\n",
        "\n",
        "$$\\begin{cases}\n",
        "-x_1+3x_2=7, \\\\ 11x_2=22. \\end{cases}\\tag{2}$$\n",
        "\n",
        "You eliminated variable $x_1$ from the second equation and brough it to the form where, dividing by $11$, you can see the solution value for $x_2$: $x_2=2$. Now take $x_2=2$ in the first equation:\n",
        "\n",
        "$$\\begin{cases}\n",
        "-x_1+3 \\times 2=7, \\\\ x_2=2, \\end{cases}\\tag{3}$$\n",
        "\n",
        "And find the solution:\n",
        "\n",
        "$$\\begin{cases}\n",
        "x_1=-1, \\\\ x_2=2. \\end{cases}\\tag{4}$$"
      ]
    },
    {
      "cell_type": "markdown",
      "metadata": {
        "id": "i1X-7_KuBMd_"
      },
      "source": [
        "### Preparation for the Implementation of Elimination Method in the Code\n",
        "\n",
        "Representing the system in a matrix form as\n",
        "$\\begin{bmatrix}\n",
        "-1 & 3 & 7 \\\\\n",
        "3 & 2 & 1\n",
        "\\end{bmatrix},\n",
        "$\n",
        "you can apply the same operations to the rows of the matrix with Python code. \n",
        "\n",
        "Unify matrix $A$ and array $b$ into one matrix using `np.hstack()` function. Note that the shape of the originally defined array $b$ was $(2,)$, to stack it with the $(2, 2)$ matrix you need to use `.reshape((2, 1))` function:"
      ]
    },
    {
      "cell_type": "code",
      "execution_count": 40,
      "metadata": {
        "id": "IJp9uSqkBUx6"
      },
      "outputs": [
        {
          "name": "stdout",
          "output_type": "stream",
          "text": [
            "[[-1.  3.  7.]\n",
            " [ 3.  2.  1.]]\n"
          ]
        }
      ],
      "source": [
        "A_system = np.hstack((A, b.reshape((2, 1))))\n",
        "\n",
        "print(A_system)"
      ]
    },
    {
      "cell_type": "markdown",
      "metadata": {
        "id": "FEsVTxPiBW9-"
      },
      "source": [
        "Let's review how to extract a row of a matrix, which will help later to perform required operations with the rows. Remember, that indexing of arrays in Python starts from zero, so to extract second row of a matrix, you need to use the following code:"
      ]
    },
    {
      "cell_type": "code",
      "execution_count": 41,
      "metadata": {
        "id": "clPH5XBuBYJw"
      },
      "outputs": [
        {
          "name": "stdout",
          "output_type": "stream",
          "text": [
            "[3. 2. 1.]\n"
          ]
        }
      ],
      "source": [
        "print(A_system[1])"
      ]
    },
    {
      "cell_type": "markdown",
      "metadata": {
        "id": "RCU7mSyBCU3b"
      },
      "source": [
        "**Implementation of Elimination Method** : Let's apply some operations to the matrix **A_system** to eliminate variable . First, copy the matrix to keep the original one without any changes. Then multiply first row by 3, add it to the second row and exchange the second row with the result of this addition:"
      ]
    },
    {
      "cell_type": "code",
      "execution_count": 42,
      "metadata": {
        "id": "eWj7Q5GfCXi2"
      },
      "outputs": [],
      "source": [
        "# Function .copy() is used to keep the original matrix without any changes.\n",
        "A_system_res = A_system.copy()"
      ]
    },
    {
      "cell_type": "code",
      "execution_count": 43,
      "metadata": {
        "id": "Q4TURLMGCZRe"
      },
      "outputs": [
        {
          "name": "stdout",
          "output_type": "stream",
          "text": [
            "[[-1.  3.  7.]\n",
            " [ 0. 11. 22.]]\n"
          ]
        }
      ],
      "source": [
        "A_system_res[1] = 3 * A_system_res[0] + A_system_res[1]\n",
        "\n",
        "print(A_system_res)"
      ]
    },
    {
      "cell_type": "code",
      "execution_count": 44,
      "metadata": {
        "id": "psRRBVUXCavO"
      },
      "outputs": [
        {
          "name": "stdout",
          "output_type": "stream",
          "text": [
            "[[-1.  3.  7.]\n",
            " [ 0.  1.  2.]]\n"
          ]
        }
      ],
      "source": [
        "A_system_res[1] = 1/11 * A_system_res[1]\n",
        "\n",
        "print(A_system_res)"
      ]
    },
    {
      "cell_type": "markdown",
      "metadata": {
        "id": "52frpLIyCe0O"
      },
      "source": [
        "**Graphical Representation of the Solution**\n",
        "\n",
        "A linear equation in two variables (here, $x_1$ and $x_2$) is represented geometrically by a line which points $(x_1, x_2)$ make up the collection of solutions of the equation. This is called the **graph of the linear equation**. In case of the system of two equations there will be two lines corresponding to each of the equations, and the solution will be the intersection point of those lines.\n",
        "\n",
        "In the following code you will define a function `plot_lines()` to plot the lines and use it later to represent the solution which you found earlier."
      ]
    },
    {
      "cell_type": "code",
      "execution_count": 45,
      "metadata": {
        "id": "q416vAKIChnL"
      },
      "outputs": [],
      "source": [
        "import matplotlib.pyplot as plt\n",
        "\n",
        "def plot_lines(M):\n",
        "    x_1 = np.linspace(-10,10,100)\n",
        "    x_2_line_1 = (M[0,2] - M[0,0] * x_1) / M[0,1]\n",
        "    x_2_line_2 = (M[1,2] - M[1,0] * x_1) / M[1,1]\n",
        "\n",
        "    _, ax = plt.subplots(figsize=(10, 10))\n",
        "    ax.plot(x_1, x_2_line_1, '-', linewidth=2, color='#0075ff',\n",
        "        label=f'$x_2={-M[0,0]/M[0,1]:.2f}x_1 + {M[0,2]/M[0,1]:.2f}$')\n",
        "    ax.plot(x_1, x_2_line_2, '-', linewidth=2, color='#ff7300',\n",
        "        label=f'$x_2={-M[1,0]/M[1,1]:.2f}x_1 + {M[1,2]/M[1,1]:.2f}$')\n",
        "\n",
        "    A = M[:, 0:-1]\n",
        "    b = M[:, -1::].flatten()\n",
        "    d = np.linalg.det(A)\n",
        "\n",
        "    if d != 0:\n",
        "        solution = np.linalg.solve(A,b)\n",
        "        ax.plot(solution[0], solution[1], '-o', mfc='none',\n",
        "            markersize=10, markeredgecolor='#ff0000', markeredgewidth=2)\n",
        "        ax.text(solution[0]-0.25, solution[1]+0.75, f'$(${solution[0]:.0f}$,{solution[1]:.0f})$', fontsize=14)\n",
        "    ax.tick_params(axis='x', labelsize=14)\n",
        "    ax.tick_params(axis='y', labelsize=14)\n",
        "    ax.set_xticks(np.arange(-10, 10))\n",
        "    ax.set_yticks(np.arange(-10, 10))\n",
        "\n",
        "    plt.xlabel('$x_1$', size=14)\n",
        "    plt.ylabel('$x_2$', size=14)\n",
        "    plt.legend(loc='upper right', fontsize=14)\n",
        "    plt.axis([-10, 10, -10, 10])\n",
        "\n",
        "    plt.grid()\n",
        "    plt.gca().set_aspect(\"equal\")\n",
        "\n",
        "    plt.show()"
      ]
    },
    {
      "cell_type": "code",
      "execution_count": 46,
      "metadata": {
        "id": "qRnBRKJVCkQS"
      },
      "outputs": [
        {
          "data": {
            "image/png": "[encoded data removed]",
            "text/plain": [
              "<Figure size 1000x1000 with 1 Axes>"
            ]
          },
          "metadata": {},
          "output_type": "display_data"
        }
      ],
      "source": [
        "plot_lines(A_system)"
      ]
    }
  ],
  "metadata": {
    "colab": {
      "authorship_tag": "ABX9TyO5hwWsY1kzc8TY+zhrtfiQ",
      "collapsed_sections": [
        "mzb1Ldv4xo68"
      ],
      "include_colab_link": true,
      "provenance": [],
      "toc_visible": true
    },
    "kernelspec": {
      "display_name": "base",
      "language": "python",
      "name": "python3"
    },
    "language_info": {
      "codemirror_mode": {
        "name": "ipython",
        "version": 3
      },
      "file_extension": ".py",
      "mimetype": "text/x-python",
      "name": "python",
      "nbconvert_exporter": "python",
      "pygments_lexer": "ipython3",
      "version": "3.12.8"
    }
  },
  "nbformat": 4,
  "nbformat_minor": 0
}
